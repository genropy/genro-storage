{
 "cells": [
  {
   "cell_type": "markdown",
   "metadata": {},
   "source": [
    "# Virtual Nodes: Lazy Operations\n",
    "\n",
    "**Duration:** 30 minutes  \n",
    "**Level:** Intermediate\n",
    "\n",
    "Learn about virtual nodes - powerful lazy evaluation features for concatenation, diffs, and archives.\n",
    "\n",
    "## What You'll Learn\n",
    "\n",
    "- What are virtual nodes and why they're useful\n",
    "- `iternode()` - Lazy concatenation of multiple files\n",
    "- `diffnode()` - Lazy unified diff generation\n",
    "- `zip()` - Creating ZIP archives\n",
    "- Building documents dynamically\n",
    "- Comparing file versions\n",
    "\n",
    "## What are Virtual Nodes?\n",
    "\n",
    "Virtual nodes are special nodes that **don't correspond to physical files**. They:\n",
    "- Store references to other nodes\n",
    "- Compute content **on-demand** (lazy evaluation)\n",
    "- Are **read-only** (can't write to them)\n",
    "- Always return `exists=False`\n",
    "\n",
    "Let's explore! 🔮"
   ]
  },
  {
   "cell_type": "code",
   "execution_count": null,
   "metadata": {},
   "outputs": [],
   "source": [
    "from genro_storage import StorageManager\n",
    "\n",
    "storage = StorageManager()\n",
    "storage.configure([{'name': 'mem', 'type': 'memory'}])\n",
    "\n",
    "print(\"✓ Storage ready\")"
   ]
  },
  {
   "cell_type": "markdown",
   "metadata": {},
   "source": [
    "## 1. Your First Virtual Node: iternode\n",
    "\n",
    "Concatenate multiple files without creating intermediates:"
   ]
  },
  {
   "cell_type": "code",
   "execution_count": null,
   "metadata": {},
   "outputs": [],
   "source": "# Create source files\npart1 = storage.node('mem:part1.txt')\npart1.write('This is part one. ')\n\npart2 = storage.node('mem:part2.txt')\npart2.write('This is part two. ')\n\npart3 = storage.node('mem:part3.txt')\npart3.write('This is part three.')\n\n# Create virtual concatenation node\ncombined = storage.iternode(part1, part2, part3)\n\nprint(f\"Is virtual: exists={combined.exists}\")\nprint(f\"\\nCombined content:\")\nprint(combined.read())"
  },
  {
   "cell_type": "markdown",
   "metadata": {},
   "source": [
    "## 2. Lazy Evaluation\n",
    "\n",
    "Content is only read when you access it:"
   ]
  },
  {
   "cell_type": "code",
   "execution_count": null,
   "metadata": {},
   "outputs": [],
   "source": "# Create source\nsource = storage.node('mem:source.txt')\nsource.write('Original')\n\n# Create iternode\nlazy = storage.iternode(source)\n\n# Modify source AFTER creating iternode\nsource.write('Modified')\n\n# Read from iternode - gets current content!\nprint(f\"Iternode reads: {lazy.read()}\")\nprint(\"\\n✓ Changes to source are reflected in virtual node!\")"
  },
  {
   "cell_type": "markdown",
   "metadata": {},
   "source": [
    "## 3. Building Documents Dynamically\n",
    "\n",
    "Use `append()` and `extend()` to build content:"
   ]
  },
  {
   "cell_type": "code",
   "execution_count": null,
   "metadata": {},
   "outputs": [],
   "source": "# Start with empty builder\nbuilder = storage.iternode()\n\n# Add header\nheader = storage.node('mem:header.txt')\nheader.write('=== REPORT ===\\n\\n')\nbuilder.append(header)\n\n# Add sections dynamically\nfor i in range(1, 4):\n    section = storage.node(f'mem:section{i}.txt')\n    section.write(f'Section {i}\\nContent here...\\n\\n')\n    builder.append(section)\n\n# Add footer\nfooter = storage.node('mem:footer.txt')\nfooter.write('=== END ===')\nbuilder.append(footer)\n\n# Materialize the document\nprint(\"Built document:\")\nprint(builder.read())"
  },
  {
   "cell_type": "markdown",
   "metadata": {},
   "source": [
    "## 4. Extend with Multiple Nodes\n",
    "\n",
    "Add many nodes at once:"
   ]
  },
  {
   "cell_type": "code",
   "execution_count": null,
   "metadata": {},
   "outputs": [],
   "source": "# Create multiple files\nfiles = []\nfor i in range(5):\n    f = storage.node(f'mem:log{i}.txt')\n    f.write(f'Log entry {i}\\n')\n    files.append(f)\n\n# Build log file\nlog_builder = storage.iternode()\nlog_builder.extend(*files)  # Add all at once\n\nprint(\"Combined log:\")\nprint(log_builder.read())"
  },
  {
   "cell_type": "markdown",
   "metadata": {},
   "source": [
    "## 5. Saving Virtual Node Content\n",
    "\n",
    "Use `copy()` to materialize to a real file:"
   ]
  },
  {
   "cell_type": "code",
   "execution_count": null,
   "metadata": {},
   "outputs": [],
   "source": "# Build content\nintro = storage.node('mem:intro.txt')\nintro.write('Introduction\\n')\n\nbody = storage.node('mem:body.txt')\nbody.write('Main content\\n')\n\nconclusion = storage.node('mem:conclusion.txt')\nconclusion.write('Conclusion\\n')\n\ndocument = storage.iternode(intro, body, conclusion)\n\n# Save to real file\nfinal = storage.node('mem:final_document.txt')\ndocument.copy(final)\n\nprint(f\"✓ Document saved\")\nprint(f\"Final file exists: {final.exists}\")\nprint(f\"Size: {final.size} bytes\")"
  },
  {
   "cell_type": "markdown",
   "metadata": {},
   "source": [
    "## 6. Diffnode: Comparing Files\n",
    "\n",
    "Generate unified diffs between files:"
   ]
  },
  {
   "cell_type": "code",
   "execution_count": null,
   "metadata": {},
   "outputs": [],
   "source": "# Create two versions\nv1 = storage.node('mem:config_v1.txt')\nv1.write('''database:\n  host: localhost\n  port: 5432\n  name: myapp\ncache:\n  enabled: true\n  ttl: 3600\n''')\n\nv2 = storage.node('mem:config_v2.txt')\nv2.write('''database:\n  host: prod-server.example.com\n  port: 5432\n  name: myapp_prod\ncache:\n  enabled: true\n  ttl: 7200\n''')\n\n# Create diff\ndiff = storage.diffnode(v1, v2)\n\nprint(\"Unified diff:\")\nprint(diff.read())"
  },
  {
   "cell_type": "markdown",
   "metadata": {},
   "source": [
    "## 7. Saving Diffs\n",
    "\n",
    "Save diff output to a file:"
   ]
  },
  {
   "cell_type": "code",
   "execution_count": null,
   "metadata": {},
   "outputs": [],
   "source": "# Create diff file\ndiff_file = storage.node('mem:changes.diff')\ndiff.copy(diff_file)\n\nprint(\"✓ Diff saved to file\")\nprint(f\"File size: {diff_file.size} bytes\")\nprint(f\"\\nContent:\")\nprint(diff_file.read())"
  },
  {
   "cell_type": "markdown",
   "metadata": {},
   "source": [
    "## 8. Diff Empty Files\n",
    "\n",
    "Diffing identical files returns empty:"
   ]
  },
  {
   "cell_type": "code",
   "execution_count": null,
   "metadata": {},
   "outputs": [],
   "source": "# Two identical files\nsame1 = storage.node('mem:same1.txt')\nsame1.write('Identical content\\n')\n\nsame2 = storage.node('mem:same2.txt')\nsame2.write('Identical content\\n')\n\n# Create diff\nno_diff = storage.diffnode(same1, same2)\nresult = no_diff.read()\n\nprint(f\"Diff output length: {len(result)} chars\")\nif result:\n    print(f\"Diff: {result}\")\nelse:\n    print(\"✓ Files are identical, no diff\")"
  },
  {
   "cell_type": "markdown",
   "metadata": {},
   "source": [
    "## 9. Binary Files and Diff\n",
    "\n",
    "Diffnode detects and rejects binary files:"
   ]
  },
  {
   "cell_type": "code",
   "execution_count": null,
   "metadata": {},
   "outputs": [],
   "source": "# Create binary files\nbin1 = storage.node('mem:file1.bin')\nbin1.write(b'\\x00\\x01\\x02\\x03', mode='wb')\n\nbin2 = storage.node('mem:file2.bin')\nbin2.write(b'\\x04\\x05\\x06\\x07', mode='wb')\n\n# Try to diff binary files\nbinary_diff = storage.diffnode(bin1, bin2)\n\ntry:\n    binary_diff.read()\nexcept ValueError as e:\n    print(f\"✓ Binary files rejected: {e}\")"
  },
  {
   "cell_type": "markdown",
   "metadata": {},
   "source": [
    "## 10. Creating ZIP Archives\n",
    "\n",
    "Use `zip()` to create archives:"
   ]
  },
  {
   "cell_type": "code",
   "execution_count": null,
   "metadata": {},
   "outputs": [],
   "source": "# Create files to archive\ndoc1 = storage.node('mem:document1.txt')\ndoc1.write('First document')\n\ndoc2 = storage.node('mem:document2.txt')\ndoc2.write('Second document')\n\ndoc3 = storage.node('mem:document3.txt')\ndoc3.write('Third document')\n\n# Create iternode with all files\narchive = storage.iternode(doc1, doc2, doc3)\n\n# Generate ZIP\nzip_bytes = archive.zip()\n\nprint(f\"✓ ZIP created: {len(zip_bytes)} bytes\")\nprint(f\"Starts with ZIP signature: {zip_bytes[:2] == b'PK'}\")"
  },
  {
   "cell_type": "markdown",
   "metadata": {},
   "source": [
    "## 11. Saving ZIP Archives\n",
    "\n",
    "Write ZIP to a file:"
   ]
  },
  {
   "cell_type": "code",
   "execution_count": null,
   "metadata": {},
   "outputs": [],
   "source": "# Save ZIP to file\nzip_file = storage.node('mem:backup.zip')\nzip_file.write(zip_bytes, mode='wb')\n\nprint(f\"✓ ZIP file saved\")\nprint(f\"File: {zip_file.fullpath}\")\nprint(f\"Size: {zip_file.size} bytes\")\n\n# Verify it's a valid ZIP\nimport zipfile\nimport io\n\nwith zipfile.ZipFile(io.BytesIO(zip_bytes)) as zf:\n    print(f\"\\nZIP contains:\")\n    for name in zf.namelist():\n        print(f\"  - {name}\")"
  },
  {
   "cell_type": "markdown",
   "metadata": {},
   "source": [
    "## 12. ZIP a Single File\n",
    "\n",
    "You can also ZIP individual files:"
   ]
  },
  {
   "cell_type": "code",
   "execution_count": null,
   "metadata": {},
   "outputs": [],
   "source": "# Create a file\nreport = storage.node('mem:report.pdf')\nreport.write('PDF content here...')\n\n# ZIP it directly\nzip_bytes = report.zip()\n\n# Check contents\nwith zipfile.ZipFile(io.BytesIO(zip_bytes)) as zf:\n    print(f\"ZIP contains: {zf.namelist()}\")\n    print(f\"Content: {zf.read('report.pdf').decode()}\")"
  },
  {
   "cell_type": "markdown",
   "metadata": {},
   "source": [
    "## 13. ZIP a Directory\n",
    "\n",
    "ZIP an entire directory tree:"
   ]
  },
  {
   "cell_type": "code",
   "execution_count": null,
   "metadata": {},
   "outputs": [],
   "source": "# Create directory structure\nproject = storage.node('mem:project')\nproject.mkdir()\n\nproject.child('README.md').write('# My Project')\nproject.child('main.py').write('print(\"hello\")')\n\nsrc = project.child('src')\nsrc.mkdir()\nsrc.child('app.py').write('# App code')\nsrc.child('utils.py').write('# Utils')\n\n# ZIP entire directory\nzip_bytes = project.zip()\n\n# Inspect\nwith zipfile.ZipFile(io.BytesIO(zip_bytes)) as zf:\n    print(\"Project ZIP contains:\")\n    for name in sorted(zf.namelist()):\n        print(f\"  {name}\")"
  },
  {
   "cell_type": "markdown",
   "metadata": {},
   "source": [
    "## 14. Practical Example: Report Generator\n",
    "\n",
    "Build a report from multiple data sources:"
   ]
  },
  {
   "cell_type": "code",
   "execution_count": null,
   "metadata": {},
   "outputs": [],
   "source": "def generate_report(storage, data):\n    \"\"\"Generate a report from data\"\"\"\n    builder = storage.iternode()\n    \n    # Header\n    header = storage.node('mem:_report_header.txt')\n    header.write(f\"{'='*50}\\n{data['title']}\\n{'='*50}\\n\\n\")\n    builder.append(header)\n    \n    # Sections\n    for i, section in enumerate(data['sections']):\n        sec_node = storage.node(f'mem:_section_{i}.txt')\n        sec_node.write(f\"## {section['title']}\\n{section['content']}\\n\\n\")\n        builder.append(sec_node)\n    \n    # Footer\n    footer = storage.node('mem:_report_footer.txt')\n    footer.write(f\"\\nGenerated: {data.get('date', 'today')}\")\n    builder.append(footer)\n    \n    return builder\n\n# Use it\nreport_data = {\n    'title': 'Q4 2024 Sales Report',\n    'sections': [\n        {'title': 'Summary', 'content': 'Revenue increased by 15%'},\n        {'title': 'Details', 'content': 'Top products: A, B, C'},\n        {'title': 'Forecast', 'content': 'Expected growth: 20%'}\n    ],\n    'date': '2024-01-15'\n}\n\nreport = generate_report(storage, report_data)\n\nprint(\"Generated report:\")\nprint(report.read())\n\n# Save it\nfinal_report = storage.node('mem:q4_report.txt')\nreport.copy(final_report)\nprint(f\"\\n✓ Report saved: {final_report.size} bytes\")"
  },
  {
   "cell_type": "markdown",
   "metadata": {},
   "source": [
    "## 15. Practical Example: Version Tracking\n",
    "\n",
    "Track changes between config versions:"
   ]
  },
  {
   "cell_type": "code",
   "execution_count": null,
   "metadata": {},
   "outputs": [],
   "source": "def track_config_changes(storage, old_config, new_config, version):\n    \"\"\"Save config and generate changelog\"\"\"\n    # Save new config\n    config_file = storage.node(f'mem:config_v{version}.txt')\n    config_file.write(new_config)\n    \n    # If we have previous version, generate diff\n    if old_config:\n        old_file = storage.node(f'mem:config_v{version-1}.txt')\n        old_file.write(old_config)\n        \n        diff = storage.diffnode(old_file, config_file)\n        changelog = storage.node(f'mem:changelog_v{version}.diff')\n        diff.copy(changelog)\n        \n        return changelog\n    return None\n\n# Track changes\nv1_config = \"timeout: 30\\nretries: 3\\n\"\nv2_config = \"timeout: 60\\nretries: 5\\n\"\n\nchangelog = track_config_changes(storage, v1_config, v2_config, 2)\n\nif changelog:\n    print(\"Changes in v2:\")\n    print(changelog.read())"
  },
  {
   "cell_type": "markdown",
   "metadata": {},
   "source": [
    "## 16. Try It Yourself! 🎯\n",
    "\n",
    "**Exercise 1:** Create a function that builds an HTML page from sections:"
   ]
  },
  {
   "cell_type": "code",
   "execution_count": null,
   "metadata": {},
   "outputs": [],
   "source": [
    "def build_html_page(storage, title, sections):\n",
    "    \"\"\"\n",
    "    Build HTML from sections.\n",
    "    sections = [{'heading': 'H1', 'content': 'text'}, ...]\n",
    "    \"\"\"\n",
    "    # Your code here\n",
    "    pass\n",
    "\n",
    "# Test it\n",
    "# page = build_html_page(storage, 'My Page', [\n",
    "#     {'heading': 'Welcome', 'content': 'Hello world'},\n",
    "#     {'heading': 'About', 'content': 'This is my site'}\n",
    "# ])\n",
    "# print(page.read_text())"
   ]
  },
  {
   "cell_type": "markdown",
   "metadata": {},
   "source": [
    "**Exercise 2:** Create a backup function that ZIPs files and saves with date:"
   ]
  },
  {
   "cell_type": "code",
   "execution_count": null,
   "metadata": {},
   "outputs": [],
   "source": [
    "from datetime import datetime\n",
    "\n",
    "def backup_files(storage, files, backup_name):\n",
    "    \"\"\"\n",
    "    Create ZIP backup of files with timestamp.\n",
    "    Returns the backup node.\n",
    "    \"\"\"\n",
    "    # Your code here\n",
    "    pass\n",
    "\n",
    "# Test it\n",
    "# files_to_backup = [\n",
    "#     storage.node('mem:important1.txt'),\n",
    "#     storage.node('mem:important2.txt')\n",
    "# ]\n",
    "# backup = backup_files(storage, files_to_backup, 'daily_backup')\n",
    "# print(f\"Backup: {backup.fullpath}, {backup.size} bytes\")"
   ]
  },
  {
   "cell_type": "markdown",
   "metadata": {},
   "source": [
    "**Exercise 3:** Compare three config versions and generate summary:"
   ]
  },
  {
   "cell_type": "code",
   "execution_count": null,
   "metadata": {},
   "outputs": [],
   "source": [
    "def compare_versions(storage, v1, v2, v3):\n",
    "    \"\"\"\n",
    "    Compare three versions and return summary of changes.\n",
    "    Return dict with 'v1_to_v2' and 'v2_to_v3' diffs.\n",
    "    \"\"\"\n",
    "    # Your code here\n",
    "    pass"
   ]
  },
  {
   "cell_type": "markdown",
   "metadata": {},
   "source": [
    "## Summary\n",
    "\n",
    "You've mastered virtual nodes:\n",
    "\n",
    "- ✓ `iternode()` for lazy concatenation\n",
    "- ✓ `append()` and `extend()` for dynamic building\n",
    "- ✓ `diffnode()` for comparing files\n",
    "- ✓ `zip()` for creating archives\n",
    "- ✓ Lazy evaluation principles\n",
    "- ✓ Building documents dynamically\n",
    "- ✓ Version tracking and comparison\n",
    "\n",
    "## Key Concepts\n",
    "\n",
    "- **Virtual nodes** have no physical storage\n",
    "- **Lazy evaluation** - content computed on-demand\n",
    "- **Read-only** - cannot write to virtual nodes\n",
    "- **Always `exists=False`**\n",
    "- Use `copy()` to materialize content\n",
    "\n",
    "## When to Use\n",
    "\n",
    "**Use iternode when:**\n",
    "- Building documents from multiple sources\n",
    "- Creating reports with dynamic sections\n",
    "- Avoiding intermediate files\n",
    "- Creating archives from multiple files\n",
    "\n",
    "**Use diffnode when:**\n",
    "- Comparing file versions\n",
    "- Generating changelogs\n",
    "- Tracking configuration changes\n",
    "- Creating patch files\n",
    "\n",
    "**Use zip() when:**\n",
    "- Creating backups\n",
    "- Packaging multiple files\n",
    "- Compressing data for transfer\n",
    "\n",
    "## What's Next?\n",
    "\n",
    "Continue to:\n",
    "\n",
    "- **[05_copy_strategies.ipynb](05_copy_strategies.ipynb)** - Smart copying with skip strategies\n",
    "- **[06_versioning.ipynb](06_versioning.ipynb)** - S3 file versioning\n",
    "\n",
    "Happy virtualizing! ✨"
   ]
  }
 ],
 "metadata": {
  "kernelspec": {
   "display_name": "Python 3",
   "language": "python",
   "name": "python3"
  },
  "language_info": {
   "codemirror_mode": {
    "name": "ipython",
    "version": 3
   },
   "file_extension": ".py",
   "mimetype": "text/x-python",
   "name": "python",
   "nbconvert_exporter": "python",
   "pygments_lexer": "ipython3",
   "version": "3.12.0"
  }
 },
 "nbformat": 4,
 "nbformat_minor": 4
}