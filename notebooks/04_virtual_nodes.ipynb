{
 "cells": [
  {
   "cell_type": "markdown",
   "metadata": {},
   "source": [
    "# Virtual Nodes: Lazy Operations\n",
    "\n",
    "**Duration:** 30 minutes  \n",
    "**Level:** Intermediate\n",
    "\n",
    "Learn about virtual nodes - powerful lazy evaluation features for concatenation, diffs, and archives.\n",
    "\n",
    "## What You'll Learn\n",
    "\n",
    "- What are virtual nodes and why they're useful\n",
    "- `iternode()` - Lazy concatenation of multiple files\n",
    "- `diffnode()` - Lazy unified diff generation\n",
    "- `zip()` - Creating ZIP archives\n",
    "- Building documents dynamically\n",
    "- Comparing file versions\n",
    "\n",
    "## What are Virtual Nodes?\n",
    "\n",
    "Virtual nodes are special nodes that **don't correspond to physical files**. They:\n",
    "- Store references to other nodes\n",
    "- Compute content **on-demand** (lazy evaluation)\n",
    "- Are **read-only** (can't write to them)\n",
    "- Always return `exists=False`\n",
    "\n",
    "Let's explore! 🔮"
   ]
  },
  {
   "cell_type": "code",
   "execution_count": null,
   "metadata": {},
   "outputs": [],
   "source": [
    "from genro_storage import StorageManager\n",
    "\n",
    "storage = StorageManager()\n",
    "storage.configure([{'name': 'mem', 'type': 'memory'}])\n",
    "\n",
    "print(\"✓ Storage ready\")"
   ]
  },
  {
   "cell_type": "markdown",
   "metadata": {},
   "source": [
    "## 1. Your First Virtual Node: iternode\n",
    "\n",
    "Concatenate multiple files without creating intermediates:"
   ]
  },
  {
   "cell_type": "code",
   "execution_count": null,
   "metadata": {},
   "outputs": [],
   "source": [
    "# Create source files\n",
    "part1 = storage.node('mem:part1.txt')\n",
    "part1.write_text('This is part one. ')\n",
    "\n",
    "part2 = storage.node('mem:part2.txt')\n",
    "part2.write_text('This is part two. ')\n",
    "\n",
    "part3 = storage.node('mem:part3.txt')\n",
    "part3.write_text('This is part three.')\n",
    "\n",
    "# Create virtual concatenation node\n",
    "combined = storage.iternode(part1, part2, part3)\n",
    "\n",
    "print(f\"Is virtual: exists={combined.exists}\")\n",
    "print(f\"\\nCombined content:\")\n",
    "print(combined.read_text())"
   ]
  },
  {
   "cell_type": "markdown",
   "metadata": {},
   "source": [
    "## 2. Lazy Evaluation\n",
    "\n",
    "Content is only read when you access it:"
   ]
  },
  {
   "cell_type": "code",
   "execution_count": null,
   "metadata": {},
   "outputs": [],
   "source": [
    "# Create source\n",
    "source = storage.node('mem:source.txt')\n",
    "source.write_text('Original')\n",
    "\n",
    "# Create iternode\n",
    "lazy = storage.iternode(source)\n",
    "\n",
    "# Modify source AFTER creating iternode\n",
    "source.write_text('Modified')\n",
    "\n",
    "# Read from iternode - gets current content!\n",
    "print(f\"Iternode reads: {lazy.read_text()}\")\n",
    "print(\"\\n✓ Changes to source are reflected in virtual node!\")"
   ]
  },
  {
   "cell_type": "markdown",
   "metadata": {},
   "source": [
    "## 3. Building Documents Dynamically\n",
    "\n",
    "Use `append()` and `extend()` to build content:"
   ]
  },
  {
   "cell_type": "code",
   "execution_count": null,
   "metadata": {},
   "outputs": [],
   "source": [
    "# Start with empty builder\n",
    "builder = storage.iternode()\n",
    "\n",
    "# Add header\n",
    "header = storage.node('mem:header.txt')\n",
    "header.write_text('=== REPORT ===\\n\\n')\n",
    "builder.append(header)\n",
    "\n",
    "# Add sections dynamically\n",
    "for i in range(1, 4):\n",
    "    section = storage.node(f'mem:section{i}.txt')\n",
    "    section.write_text(f'Section {i}\\nContent here...\\n\\n')\n",
    "    builder.append(section)\n",
    "\n",
    "# Add footer\n",
    "footer = storage.node('mem:footer.txt')\n",
    "footer.write_text('=== END ===')\n",
    "builder.append(footer)\n",
    "\n",
    "# Materialize the document\n",
    "print(\"Built document:\")\n",
    "print(builder.read_text())"
   ]
  },
  {
   "cell_type": "markdown",
   "metadata": {},
   "source": [
    "## 4. Extend with Multiple Nodes\n",
    "\n",
    "Add many nodes at once:"
   ]
  },
  {
   "cell_type": "code",
   "execution_count": null,
   "metadata": {},
   "outputs": [],
   "source": [
    "# Create multiple files\n",
    "files = []\n",
    "for i in range(5):\n",
    "    f = storage.node(f'mem:log{i}.txt')\n",
    "    f.write_text(f'Log entry {i}\\n')\n",
    "    files.append(f)\n",
    "\n",
    "# Build log file\n",
    "log_builder = storage.iternode()\n",
    "log_builder.extend(*files)  # Add all at once\n",
    "\n",
    "print(\"Combined log:\")\n",
    "print(log_builder.read_text())"
   ]
  },
  {
   "cell_type": "markdown",
   "metadata": {},
   "source": [
    "## 5. Saving Virtual Node Content\n",
    "\n",
    "Use `copy()` to materialize to a real file:"
   ]
  },
  {
   "cell_type": "code",
   "execution_count": null,
   "metadata": {},
   "outputs": [],
   "source": [
    "# Build content\n",
    "intro = storage.node('mem:intro.txt')\n",
    "intro.write_text('Introduction\\n')\n",
    "\n",
    "body = storage.node('mem:body.txt')\n",
    "body.write_text('Main content\\n')\n",
    "\n",
    "conclusion = storage.node('mem:conclusion.txt')\n",
    "conclusion.write_text('Conclusion\\n')\n",
    "\n",
    "document = storage.iternode(intro, body, conclusion)\n",
    "\n",
    "# Save to real file\n",
    "final = storage.node('mem:final_document.txt')\n",
    "document.copy(final)\n",
    "\n",
    "print(f\"✓ Document saved\")\n",
    "print(f\"Final file exists: {final.exists}\")\n",
    "print(f\"Size: {final.size} bytes\")"
   ]
  },
  {
   "cell_type": "markdown",
   "metadata": {},
   "source": [
    "## 6. Diffnode: Comparing Files\n",
    "\n",
    "Generate unified diffs between files:"
   ]
  },
  {
   "cell_type": "code",
   "execution_count": null,
   "metadata": {},
   "outputs": [],
   "source": [
    "# Create two versions\n",
    "v1 = storage.node('mem:config_v1.txt')\n",
    "v1.write_text('''database:\n",
    "  host: localhost\n",
    "  port: 5432\n",
    "  name: myapp\n",
    "cache:\n",
    "  enabled: true\n",
    "  ttl: 3600\n",
    "''')\n",
    "\n",
    "v2 = storage.node('mem:config_v2.txt')\n",
    "v2.write_text('''database:\n",
    "  host: prod-server.example.com\n",
    "  port: 5432\n",
    "  name: myapp_prod\n",
    "cache:\n",
    "  enabled: true\n",
    "  ttl: 7200\n",
    "''')\n",
    "\n",
    "# Create diff\n",
    "diff = storage.diffnode(v1, v2)\n",
    "\n",
    "print(\"Unified diff:\")\n",
    "print(diff.read_text())"
   ]
  },
  {
   "cell_type": "markdown",
   "metadata": {},
   "source": [
    "## 7. Saving Diffs\n",
    "\n",
    "Save diff output to a file:"
   ]
  },
  {
   "cell_type": "code",
   "execution_count": null,
   "metadata": {},
   "outputs": [],
   "source": [
    "# Create diff file\n",
    "diff_file = storage.node('mem:changes.diff')\n",
    "diff.copy(diff_file)\n",
    "\n",
    "print(\"✓ Diff saved to file\")\n",
    "print(f\"File size: {diff_file.size} bytes\")\n",
    "print(f\"\\nContent:\")\n",
    "print(diff_file.read_text())"
   ]
  },
  {
   "cell_type": "markdown",
   "metadata": {},
   "source": [
    "## 8. Diff Empty Files\n",
    "\n",
    "Diffing identical files returns empty:"
   ]
  },
  {
   "cell_type": "code",
   "execution_count": null,
   "metadata": {},
   "outputs": [],
   "source": [
    "# Two identical files\n",
    "same1 = storage.node('mem:same1.txt')\n",
    "same1.write_text('Identical content\\n')\n",
    "\n",
    "same2 = storage.node('mem:same2.txt')\n",
    "same2.write_text('Identical content\\n')\n",
    "\n",
    "# Create diff\n",
    "no_diff = storage.diffnode(same1, same2)\n",
    "result = no_diff.read_text()\n",
    "\n",
    "print(f\"Diff output length: {len(result)} chars\")\n",
    "if result:\n",
    "    print(f\"Diff: {result}\")\n",
    "else:\n",
    "    print(\"✓ Files are identical, no diff\")"
   ]
  },
  {
   "cell_type": "markdown",
   "metadata": {},
   "source": [
    "## 9. Binary Files and Diff\n",
    "\n",
    "Diffnode detects and rejects binary files:"
   ]
  },
  {
   "cell_type": "code",
   "execution_count": null,
   "metadata": {},
   "outputs": [],
   "source": [
    "# Create binary files\n",
    "bin1 = storage.node('mem:file1.bin')\n",
    "bin1.write_bytes(b'\\x00\\x01\\x02\\x03')\n",
    "\n",
    "bin2 = storage.node('mem:file2.bin')\n",
    "bin2.write_bytes(b'\\x04\\x05\\x06\\x07')\n",
    "\n",
    "# Try to diff binary files\n",
    "binary_diff = storage.diffnode(bin1, bin2)\n",
    "\n",
    "try:\n",
    "    binary_diff.read_text()\n",
    "except ValueError as e:\n",
    "    print(f\"✓ Binary files rejected: {e}\")"
   ]
  },
  {
   "cell_type": "markdown",
   "metadata": {},
   "source": [
    "## 10. Creating ZIP Archives\n",
    "\n",
    "Use `zip()` to create archives:"
   ]
  },
  {
   "cell_type": "code",
   "execution_count": null,
   "metadata": {},
   "outputs": [],
   "source": [
    "# Create files to archive\n",
    "doc1 = storage.node('mem:document1.txt')\n",
    "doc1.write_text('First document')\n",
    "\n",
    "doc2 = storage.node('mem:document2.txt')\n",
    "doc2.write_text('Second document')\n",
    "\n",
    "doc3 = storage.node('mem:document3.txt')\n",
    "doc3.write_text('Third document')\n",
    "\n",
    "# Create iternode with all files\n",
    "archive = storage.iternode(doc1, doc2, doc3)\n",
    "\n",
    "# Generate ZIP\n",
    "zip_bytes = archive.zip()\n",
    "\n",
    "print(f\"✓ ZIP created: {len(zip_bytes)} bytes\")\n",
    "print(f\"Starts with ZIP signature: {zip_bytes[:2] == b'PK'}\")"
   ]
  },
  {
   "cell_type": "markdown",
   "metadata": {},
   "source": [
    "## 11. Saving ZIP Archives\n",
    "\n",
    "Write ZIP to a file:"
   ]
  },
  {
   "cell_type": "code",
   "execution_count": null,
   "metadata": {},
   "outputs": [],
   "source": [
    "# Save ZIP to file\n",
    "zip_file = storage.node('mem:backup.zip')\n",
    "zip_file.write_bytes(zip_bytes)\n",
    "\n",
    "print(f\"✓ ZIP file saved\")\n",
    "print(f\"File: {zip_file.fullpath}\")\n",
    "print(f\"Size: {zip_file.size} bytes\")\n",
    "\n",
    "# Verify it's a valid ZIP\n",
    "import zipfile\n",
    "import io\n",
    "\n",
    "with zipfile.ZipFile(io.BytesIO(zip_bytes)) as zf:\n",
    "    print(f\"\\nZIP contains:\")\n",
    "    for name in zf.namelist():\n",
    "        print(f\"  - {name}\")"
   ]
  },
  {
   "cell_type": "markdown",
   "metadata": {},
   "source": [
    "## 12. ZIP a Single File\n",
    "\n",
    "You can also ZIP individual files:"
   ]
  },
  {
   "cell_type": "code",
   "execution_count": null,
   "metadata": {},
   "outputs": [],
   "source": [
    "# Create a file\n",
    "report = storage.node('mem:report.pdf')\n",
    "report.write_text('PDF content here...')\n",
    "\n",
    "# ZIP it directly\n",
    "zip_bytes = report.zip()\n",
    "\n",
    "# Check contents\n",
    "with zipfile.ZipFile(io.BytesIO(zip_bytes)) as zf:\n",
    "    print(f\"ZIP contains: {zf.namelist()}\")\n",
    "    print(f\"Content: {zf.read('report.pdf').decode()}\")"
   ]
  },
  {
   "cell_type": "markdown",
   "metadata": {},
   "source": [
    "## 13. ZIP a Directory\n",
    "\n",
    "ZIP an entire directory tree:"
   ]
  },
  {
   "cell_type": "code",
   "execution_count": null,
   "metadata": {},
   "outputs": [],
   "source": [
    "# Create directory structure\n",
    "project = storage.node('mem:project')\n",
    "project.mkdir()\n",
    "\n",
    "project.child('README.md').write_text('# My Project')\n",
    "project.child('main.py').write_text('print(\"hello\")')\n",
    "\n",
    "src = project.child('src')\n",
    "src.mkdir()\n",
    "src.child('app.py').write_text('# App code')\n",
    "src.child('utils.py').write_text('# Utils')\n",
    "\n",
    "# ZIP entire directory\n",
    "zip_bytes = project.zip()\n",
    "\n",
    "# Inspect\n",
    "with zipfile.ZipFile(io.BytesIO(zip_bytes)) as zf:\n",
    "    print(\"Project ZIP contains:\")\n",
    "    for name in sorted(zf.namelist()):\n",
    "        print(f\"  {name}\")"
   ]
  },
  {
   "cell_type": "markdown",
   "metadata": {},
   "source": [
    "## 14. Practical Example: Report Generator\n",
    "\n",
    "Build a report from multiple data sources:"
   ]
  },
  {
   "cell_type": "code",
   "execution_count": null,
   "metadata": {},
   "outputs": [],
   "source": [
    "def generate_report(storage, data):\n",
    "    \"\"\"Generate a report from data\"\"\"\n",
    "    builder = storage.iternode()\n",
    "    \n",
    "    # Header\n",
    "    header = storage.node('mem:_report_header.txt')\n",
    "    header.write_text(f\"{'='*50}\\n{data['title']}\\n{'='*50}\\n\\n\")\n",
    "    builder.append(header)\n",
    "    \n",
    "    # Sections\n",
    "    for i, section in enumerate(data['sections']):\n",
    "        sec_node = storage.node(f'mem:_section_{i}.txt')\n",
    "        sec_node.write_text(f\"## {section['title']}\\n{section['content']}\\n\\n\")\n",
    "        builder.append(sec_node)\n",
    "    \n",
    "    # Footer\n",
    "    footer = storage.node('mem:_report_footer.txt')\n",
    "    footer.write_text(f\"\\nGenerated: {data.get('date', 'today')}\")\n",
    "    builder.append(footer)\n",
    "    \n",
    "    return builder\n",
    "\n",
    "# Use it\n",
    "report_data = {\n",
    "    'title': 'Q4 2024 Sales Report',\n",
    "    'sections': [\n",
    "        {'title': 'Summary', 'content': 'Revenue increased by 15%'},\n",
    "        {'title': 'Details', 'content': 'Top products: A, B, C'},\n",
    "        {'title': 'Forecast', 'content': 'Expected growth: 20%'}\n",
    "    ],\n",
    "    'date': '2024-01-15'\n",
    "}\n",
    "\n",
    "report = generate_report(storage, report_data)\n",
    "\n",
    "print(\"Generated report:\")\n",
    "print(report.read_text())\n",
    "\n",
    "# Save it\n",
    "final_report = storage.node('mem:q4_report.txt')\n",
    "report.copy(final_report)\n",
    "print(f\"\\n✓ Report saved: {final_report.size} bytes\")"
   ]
  },
  {
   "cell_type": "markdown",
   "metadata": {},
   "source": [
    "## 15. Practical Example: Version Tracking\n",
    "\n",
    "Track changes between config versions:"
   ]
  },
  {
   "cell_type": "code",
   "execution_count": null,
   "metadata": {},
   "outputs": [],
   "source": [
    "def track_config_changes(storage, old_config, new_config, version):\n",
    "    \"\"\"Save config and generate changelog\"\"\"\n",
    "    # Save new config\n",
    "    config_file = storage.node(f'mem:config_v{version}.txt')\n",
    "    config_file.write_text(new_config)\n",
    "    \n",
    "    # If we have previous version, generate diff\n",
    "    if old_config:\n",
    "        old_file = storage.node(f'mem:config_v{version-1}.txt')\n",
    "        old_file.write_text(old_config)\n",
    "        \n",
    "        diff = storage.diffnode(old_file, config_file)\n",
    "        changelog = storage.node(f'mem:changelog_v{version}.diff')\n",
    "        diff.copy(changelog)\n",
    "        \n",
    "        return changelog\n",
    "    return None\n",
    "\n",
    "# Track changes\n",
    "v1_config = \"timeout: 30\\nretries: 3\\n\"\n",
    "v2_config = \"timeout: 60\\nretries: 5\\n\"\n",
    "\n",
    "changelog = track_config_changes(storage, v1_config, v2_config, 2)\n",
    "\n",
    "if changelog:\n",
    "    print(\"Changes in v2:\")\n",
    "    print(changelog.read_text())"
   ]
  },
  {
   "cell_type": "markdown",
   "metadata": {},
   "source": [
    "## 16. Try It Yourself! 🎯\n",
    "\n",
    "**Exercise 1:** Create a function that builds an HTML page from sections:"
   ]
  },
  {
   "cell_type": "code",
   "execution_count": null,
   "metadata": {},
   "outputs": [],
   "source": [
    "def build_html_page(storage, title, sections):\n",
    "    \"\"\"\n",
    "    Build HTML from sections.\n",
    "    sections = [{'heading': 'H1', 'content': 'text'}, ...]\n",
    "    \"\"\"\n",
    "    # Your code here\n",
    "    pass\n",
    "\n",
    "# Test it\n",
    "# page = build_html_page(storage, 'My Page', [\n",
    "#     {'heading': 'Welcome', 'content': 'Hello world'},\n",
    "#     {'heading': 'About', 'content': 'This is my site'}\n",
    "# ])\n",
    "# print(page.read_text())"
   ]
  },
  {
   "cell_type": "markdown",
   "metadata": {},
   "source": [
    "**Exercise 2:** Create a backup function that ZIPs files and saves with date:"
   ]
  },
  {
   "cell_type": "code",
   "execution_count": null,
   "metadata": {},
   "outputs": [],
   "source": [
    "from datetime import datetime\n",
    "\n",
    "def backup_files(storage, files, backup_name):\n",
    "    \"\"\"\n",
    "    Create ZIP backup of files with timestamp.\n",
    "    Returns the backup node.\n",
    "    \"\"\"\n",
    "    # Your code here\n",
    "    pass\n",
    "\n",
    "# Test it\n",
    "# files_to_backup = [\n",
    "#     storage.node('mem:important1.txt'),\n",
    "#     storage.node('mem:important2.txt')\n",
    "# ]\n",
    "# backup = backup_files(storage, files_to_backup, 'daily_backup')\n",
    "# print(f\"Backup: {backup.fullpath}, {backup.size} bytes\")"
   ]
  },
  {
   "cell_type": "markdown",
   "metadata": {},
   "source": [
    "**Exercise 3:** Compare three config versions and generate summary:"
   ]
  },
  {
   "cell_type": "code",
   "execution_count": null,
   "metadata": {},
   "outputs": [],
   "source": [
    "def compare_versions(storage, v1, v2, v3):\n",
    "    \"\"\"\n",
    "    Compare three versions and return summary of changes.\n",
    "    Return dict with 'v1_to_v2' and 'v2_to_v3' diffs.\n",
    "    \"\"\"\n",
    "    # Your code here\n",
    "    pass"
   ]
  },
  {
   "cell_type": "markdown",
   "metadata": {},
   "source": [
    "## Summary\n",
    "\n",
    "You've mastered virtual nodes:\n",
    "\n",
    "- ✓ `iternode()` for lazy concatenation\n",
    "- ✓ `append()` and `extend()` for dynamic building\n",
    "- ✓ `diffnode()` for comparing files\n",
    "- ✓ `zip()` for creating archives\n",
    "- ✓ Lazy evaluation principles\n",
    "- ✓ Building documents dynamically\n",
    "- ✓ Version tracking and comparison\n",
    "\n",
    "## Key Concepts\n",
    "\n",
    "- **Virtual nodes** have no physical storage\n",
    "- **Lazy evaluation** - content computed on-demand\n",
    "- **Read-only** - cannot write to virtual nodes\n",
    "- **Always `exists=False`**\n",
    "- Use `copy()` to materialize content\n",
    "\n",
    "## When to Use\n",
    "\n",
    "**Use iternode when:**\n",
    "- Building documents from multiple sources\n",
    "- Creating reports with dynamic sections\n",
    "- Avoiding intermediate files\n",
    "- Creating archives from multiple files\n",
    "\n",
    "**Use diffnode when:**\n",
    "- Comparing file versions\n",
    "- Generating changelogs\n",
    "- Tracking configuration changes\n",
    "- Creating patch files\n",
    "\n",
    "**Use zip() when:**\n",
    "- Creating backups\n",
    "- Packaging multiple files\n",
    "- Compressing data for transfer\n",
    "\n",
    "## What's Next?\n",
    "\n",
    "Continue to:\n",
    "\n",
    "- **[05_copy_strategies.ipynb](05_copy_strategies.ipynb)** - Smart copying with skip strategies\n",
    "- **[06_versioning.ipynb](06_versioning.ipynb)** - S3 file versioning\n",
    "\n",
    "Happy virtualizing! ✨"
   ]
  }
 ],
 "metadata": {
  "kernelspec": {
   "display_name": "Python 3",
   "language": "python",
   "name": "python3"
  },
  "language_info": {
   "codemirror_mode": {
    "name": "ipython",
    "version": 3
   },
   "file_extension": ".py",
   "mimetype": "text/x-python",
   "name": "python",
   "nbconvert_exporter": "python",
   "pygments_lexer": "ipython3",
   "version": "3.12.0"
  }
 },
 "nbformat": 4,
 "nbformat_minor": 4
}
