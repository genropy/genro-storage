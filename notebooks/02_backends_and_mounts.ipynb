{
 "cells": [
  {
   "cell_type": "markdown",
   "metadata": {},
   "source": [
    "# Storage Backends and Mount Points\n",
    "\n",
    "**Duration:** 20 minutes  \n",
    "**Level:** Beginner\n",
    "\n",
    "Learn how to configure and work with different storage backends.\n",
    "\n",
    "## What You'll Learn\n",
    "\n",
    "- Different storage backend types\n",
    "- How to configure multiple backends\n",
    "- Mount point naming and best practices\n",
    "- Backend capabilities\n",
    "- Configuration from files (YAML/JSON)\n",
    "\n",
    "## Storage Backends Available\n",
    "\n",
    "- **Local**: Local filesystem\n",
    "- **Memory**: In-memory storage (testing)\n",
    "- **S3**: Amazon S3\n",
    "- **GCS**: Google Cloud Storage\n",
    "- **Azure**: Azure Blob Storage\n",
    "- **HTTP**: Read-only HTTP/HTTPS\n",
    "- **Base64**: Embedded base64 data\n",
    "\n",
    "Let's explore! 🗂️"
   ]
  },
  {
   "cell_type": "code",
   "execution_count": null,
   "metadata": {},
   "outputs": [],
   "source": [
    "from genro_storage import StorageManager\n",
    "import tempfile\n",
    "import os\n",
    "\n",
    "storage = StorageManager()\n",
    "print(\"✓ Storage manager ready!\")"
   ]
  },
  {
   "cell_type": "markdown",
   "metadata": {},
   "source": [
    "## 1. Memory Backend\n",
    "\n",
    "Perfect for testing, temporary data, and examples:"
   ]
  },
  {
   "cell_type": "code",
   "execution_count": null,
   "metadata": {},
   "outputs": [],
   "source": "storage.configure([\n    {'name': 'temp', 'type': 'memory'}\n])\n\n# Create a temporary file\ntemp_file = storage.node('temp:test.txt')\ntemp_file.write('This data exists only in memory')\n\nprint(f\"✓ Memory storage configured\")\nprint(f\"File exists: {temp_file.exists}\")\nprint(f\"Content: {temp_file.read()}\")\n\n# Check capabilities\ncaps = temp_file.capabilities\nprint(f\"\\nCapabilities:\")\nprint(f\"  Read: {caps.read}\")\nprint(f\"  Write: {caps.write}\")\nprint(f\"  Temporary: {caps.temporary}\")\nprint(f\"  Versioning: {caps.versioning}\")"
  },
  {
   "cell_type": "markdown",
   "metadata": {},
   "source": [
    "## 2. Local Filesystem Backend\n",
    "\n",
    "Access files on your computer:"
   ]
  },
  {
   "cell_type": "code",
   "execution_count": null,
   "metadata": {},
   "outputs": [],
   "source": "# Create a temporary directory for this example\nlocal_dir = tempfile.mkdtemp()\n\nstorage.configure([\n    {'name': 'local', 'type': 'local', 'path': local_dir}\n], replace=False)\n\n# Create a real file on disk\nlocal_file = storage.node('local:document.txt')\nlocal_file.write('This file is on disk!')\n\nprint(f\"✓ Local storage configured\")\nprint(f\"Base path: {local_dir}\")\nprint(f\"File path: {local_file.fullpath}\")\nprint(f\"Actually exists on disk: {os.path.exists(local_file.fullpath)}\")\n\n# Cleanup will happen at the end"
  },
  {
   "cell_type": "markdown",
   "metadata": {},
   "source": [
    "## 3. Multiple Mount Points\n",
    "\n",
    "You can configure multiple backends at once:"
   ]
  },
  {
   "cell_type": "code",
   "execution_count": null,
   "metadata": {},
   "outputs": [],
   "source": "# Create multiple temp directories\nhome_dir = tempfile.mkdtemp()\nwork_dir = tempfile.mkdtemp()\nuploads_dir = tempfile.mkdtemp()\n\n# Configure multiple backends\nstorage.configure([\n    {'name': 'home', 'type': 'local', 'path': home_dir},\n    {'name': 'work', 'type': 'local', 'path': work_dir},\n    {'name': 'uploads', 'type': 'local', 'path': uploads_dir},\n    {'name': 'cache', 'type': 'memory'}\n], replace=False)\n\nprint(\"✓ Multiple storage backends configured\")\nprint(f\"Available mounts: {', '.join(storage.get_mount_names())}\")\n\n# Use them\nstorage.node('home:personal.txt').write('Personal file')\nstorage.node('work:project.txt').write('Work file')\nstorage.node('uploads:photo.jpg').write('Photo data...')\nstorage.node('cache:session.tmp').write('Temporary cache')\n\nprint(\"\\n✓ Files created in different locations\")"
  },
  {
   "cell_type": "markdown",
   "metadata": {},
   "source": [
    "## 4. Copying Between Backends\n",
    "\n",
    "Seamlessly copy files between different storage types:"
   ]
  },
  {
   "cell_type": "code",
   "execution_count": null,
   "metadata": {},
   "outputs": [],
   "source": "# Create a file in memory\nmem_report = storage.node('cache:report.txt')\nmem_report.write('Q4 Sales Report\\n\\nRevenue: $1M\\nGrowth: 15%')\n\n# Copy to home\nhome_report = storage.node('home:reports/q4.txt')\nhome_report.parent.mkdir(parents=True, exist_ok=True)\nmem_report.copy(home_report)\n\n# Copy to work\nwork_report = storage.node('work:archive/2024/q4.txt')\nwork_report.parent.mkdir(parents=True, exist_ok=True)\nmem_report.copy(work_report)\n\nprint(\"✓ Report copied to multiple locations\")\nprint(f\"  Memory: {mem_report.fullpath}\")\nprint(f\"  Home: {home_report.fullpath}\")\nprint(f\"  Work: {work_report.fullpath}\")\nprint(f\"\\nAll exist: {mem_report.exists and home_report.exists and work_report.exists}\")"
  },
  {
   "cell_type": "markdown",
   "metadata": {},
   "source": [
    "## 5. HTTP Backend (Read-Only)\n",
    "\n",
    "Access files from the web:"
   ]
  },
  {
   "cell_type": "code",
   "execution_count": null,
   "metadata": {},
   "outputs": [],
   "source": "# Configure HTTP backend\nstorage.configure([\n    {'name': 'web', 'type': 'http', 'base_url': 'https://raw.githubusercontent.com'}\n], replace=False)\n\n# Access a file from GitHub\nreadme = storage.node('web:genropy/genro-storage/main/README.md')\n\nprint(f\"✓ HTTP storage configured\")\nprint(f\"File exists: {readme.exists}\")\n\n# Read first 200 characters\ncontent = readme.read()\nprint(f\"\\nFirst 200 chars of README:\")\nprint(content[:200] + \"...\")\n\n# Check capabilities\nprint(f\"\\nHTTP capabilities:\")\nprint(f\"  Read: {readme.capabilities.read}\")\nprint(f\"  Write: {readme.capabilities.write}\")\nprint(f\"  Read-only: {readme.capabilities.readonly}\")"
  },
  {
   "cell_type": "markdown",
   "metadata": {},
   "source": [
    "## 6. Base64 Backend\n",
    "\n",
    "Work with embedded base64 data:"
   ]
  },
  {
   "cell_type": "code",
   "execution_count": null,
   "metadata": {},
   "outputs": [],
   "source": "import base64\n\n# Configure base64 backend\nstorage.configure([\n    {'name': 'b64', 'type': 'base64'}\n], replace=False)\n\n# Create some data\ndata = \"Hello, Base64!\"\nencoded = base64.b64encode(data.encode()).decode()\n\n# Create node with base64 path\nb64_node = storage.node(f'b64:{encoded}')\n\nprint(f\"✓ Base64 storage configured\")\nprint(f\"Original data: {data}\")\nprint(f\"Encoded: {encoded}\")\nprint(f\"Decoded from node: {b64_node.read()}\")\n\n# Useful for embedding small files in URLs or configs\nprint(f\"\\nUse case: data:image/png;base64,{encoded}\")"
  },
  {
   "cell_type": "markdown",
   "metadata": {},
   "source": [
    "## 7. S3 Configuration (AWS)\n",
    "\n",
    "Configure Amazon S3 storage (requires `pip install genro-storage[s3]`):"
   ]
  },
  {
   "cell_type": "code",
   "execution_count": null,
   "metadata": {},
   "outputs": [],
   "source": [
    "# Example S3 configuration (won't actually run without credentials)\n",
    "\n",
    "s3_config = {\n",
    "    'name': 's3',\n",
    "    'type': 's3',\n",
    "    'bucket': 'my-app-bucket',\n",
    "    # Optional:\n",
    "    'region': 'us-east-1',\n",
    "    'prefix': 'uploads/',  # All paths relative to this prefix\n",
    "    'aws_access_key_id': 'YOUR_KEY',\n",
    "    'aws_secret_access_key': 'YOUR_SECRET'\n",
    "}\n",
    "\n",
    "print(\"S3 Configuration example:\")\n",
    "print(f\"  Bucket: {s3_config['bucket']}\")\n",
    "print(f\"  Region: {s3_config.get('region', 'default')}\")\n",
    "print(f\"  Prefix: {s3_config.get('prefix', 'root')}\")\n",
    "\n",
    "# To actually use:\n",
    "# storage.configure([s3_config])\n",
    "# file = storage.node('s3:document.pdf')\n",
    "\n",
    "print(\"\\nNote: S3 requires proper AWS credentials to work\")"
   ]
  },
  {
   "cell_type": "markdown",
   "metadata": {},
   "source": [
    "## 8. Configuration from YAML\n",
    "\n",
    "Load configuration from a YAML file:"
   ]
  },
  {
   "cell_type": "code",
   "execution_count": null,
   "metadata": {},
   "outputs": [],
   "source": [
    "import yaml\n",
    "\n",
    "# Create a YAML config file\n",
    "config_yaml = \"\"\"\n",
    "mounts:\n",
    "  - name: data\n",
    "    type: local\n",
    "    path: /var/data\n",
    "    \n",
    "  - name: cache\n",
    "    type: memory\n",
    "    \n",
    "  - name: backup\n",
    "    type: s3\n",
    "    bucket: my-backups\n",
    "    region: eu-west-1\n",
    "\"\"\"\n",
    "\n",
    "# Parse and show\n",
    "config = yaml.safe_load(config_yaml)\n",
    "print(\"YAML Configuration:\")\n",
    "print(yaml.dump(config, default_flow_style=False))\n",
    "\n",
    "# To use:\n",
    "# storage.configure('config.yaml')\n",
    "# or\n",
    "# storage.configure(config['mounts'])"
   ]
  },
  {
   "cell_type": "markdown",
   "metadata": {},
   "source": [
    "## 9. Configuration from JSON\n",
    "\n",
    "Or use JSON:"
   ]
  },
  {
   "cell_type": "code",
   "execution_count": null,
   "metadata": {},
   "outputs": [],
   "source": [
    "import json\n",
    "\n",
    "# JSON configuration\n",
    "config_json = \"\"\"\n",
    "{\n",
    "  \"mounts\": [\n",
    "    {\n",
    "      \"name\": \"uploads\",\n",
    "      \"type\": \"local\",\n",
    "      \"path\": \"/var/uploads\"\n",
    "    },\n",
    "    {\n",
    "      \"name\": \"cdn\",\n",
    "      \"type\": \"s3\",\n",
    "      \"bucket\": \"my-cdn\",\n",
    "      \"public\": true\n",
    "    }\n",
    "  ]\n",
    "}\n",
    "\"\"\"\n",
    "\n",
    "config = json.loads(config_json)\n",
    "print(\"JSON Configuration:\")\n",
    "print(json.dumps(config, indent=2))\n",
    "\n",
    "# To use:\n",
    "# storage.configure('config.json')\n",
    "# or\n",
    "# storage.configure(config['mounts'])"
   ]
  },
  {
   "cell_type": "markdown",
   "metadata": {},
   "source": [
    "## 10. Checking Configured Mounts\n",
    "\n",
    "You can inspect what's configured:"
   ]
  },
  {
   "cell_type": "code",
   "execution_count": null,
   "metadata": {},
   "outputs": [],
   "source": [
    "# List all mount names\n",
    "mounts = storage.get_mount_names()\n",
    "print(f\"Configured mounts ({len(mounts)}):\")\n",
    "for mount in sorted(mounts):\n",
    "    print(f\"  - {mount}\")\n",
    "\n",
    "# Check if specific mount exists\n",
    "print(f\"\\nHas 'home' mount: {storage.has_mount('home')}\")\n",
    "print(f\"Has 's3' mount: {storage.has_mount('s3')}\")"
   ]
  },
  {
   "cell_type": "markdown",
   "metadata": {},
   "source": [
    "## 11. Backend Capabilities\n",
    "\n",
    "Each backend reports its capabilities:"
   ]
  },
  {
   "cell_type": "code",
   "execution_count": null,
   "metadata": {},
   "outputs": [],
   "source": [
    "# Compare capabilities across backends\n",
    "def show_capabilities(mount_name):\n",
    "    node = storage.node(f'{mount_name}:test')\n",
    "    caps = node.capabilities\n",
    "    \n",
    "    print(f\"\\n{mount_name}:\")\n",
    "    print(f\"  Read: {caps.read}\")\n",
    "    print(f\"  Write: {caps.write}\")\n",
    "    print(f\"  Delete: {caps.delete}\")\n",
    "    print(f\"  Versioning: {caps.versioning}\")\n",
    "    print(f\"  Metadata: {caps.metadata}\")\n",
    "    print(f\"  URLs: {caps.presigned_urls}\")\n",
    "    print(f\"  Read-only: {caps.readonly}\")\n",
    "    print(f\"  Temporary: {caps.temporary}\")\n",
    "\n",
    "print(\"Backend Capabilities Comparison:\")\n",
    "show_capabilities('cache')\n",
    "show_capabilities('home')\n",
    "show_capabilities('web')"
   ]
  },
  {
   "cell_type": "markdown",
   "metadata": {},
   "source": [
    "## 12. Dynamic Configuration\n",
    "\n",
    "You can add or replace mounts at runtime:"
   ]
  },
  {
   "cell_type": "code",
   "execution_count": null,
   "metadata": {},
   "outputs": [],
   "source": [
    "print(f\"Before: {storage.get_mount_names()}\")\n",
    "\n",
    "# Add a new mount\n",
    "new_temp = tempfile.mkdtemp()\n",
    "storage.configure([\n",
    "    {'name': 'new_mount', 'type': 'local', 'path': new_temp}\n",
    "], replace=False)\n",
    "\n",
    "print(f\"After adding: {storage.get_mount_names()}\")\n",
    "\n",
    "# Replace an existing mount\n",
    "storage.configure([\n",
    "    {'name': 'cache', 'type': 'memory'}  # Reconfigure cache\n",
    "], replace=True)  # This only replaces 'cache'\n",
    "\n",
    "print(f\"After replacing: {storage.get_mount_names()}\")"
   ]
  },
  {
   "cell_type": "markdown",
   "metadata": {},
   "source": [
    "## 13. Try It Yourself! 🎯\n",
    "\n",
    "**Exercise 1:** Configure three mounts: 'dev', 'staging', 'prod' (all memory for now)"
   ]
  },
  {
   "cell_type": "code",
   "execution_count": null,
   "metadata": {},
   "outputs": [],
   "source": [
    "# Your code here\n"
   ]
  },
  {
   "cell_type": "markdown",
   "metadata": {},
   "source": [
    "**Exercise 2:** Create a config file, copy it between dev/staging/prod:"
   ]
  },
  {
   "cell_type": "code",
   "execution_count": null,
   "metadata": {},
   "outputs": [],
   "source": [
    "# Your code here\n"
   ]
  },
  {
   "cell_type": "markdown",
   "metadata": {},
   "source": [
    "**Exercise 3:** Create a function that shows all files across all mounts:"
   ]
  },
  {
   "cell_type": "code",
   "execution_count": null,
   "metadata": {},
   "outputs": [],
   "source": [
    "def list_all_files(storage_manager):\n",
    "    \"\"\"List all files across all mounts\"\"\"\n",
    "    # Your code here\n",
    "    pass\n",
    "\n",
    "# list_all_files(storage)"
   ]
  },
  {
   "cell_type": "markdown",
   "metadata": {},
   "source": [
    "## 14. Cleanup\n",
    "\n",
    "Clean up temporary directories:"
   ]
  },
  {
   "cell_type": "code",
   "execution_count": null,
   "metadata": {},
   "outputs": [],
   "source": [
    "import shutil\n",
    "\n",
    "# Clean up all temp directories we created\n",
    "temp_dirs = [local_dir, home_dir, work_dir, uploads_dir, new_temp]\n",
    "for d in temp_dirs:\n",
    "    if os.path.exists(d):\n",
    "        shutil.rmtree(d)\n",
    "\n",
    "print(\"✓ Cleanup complete\")"
   ]
  },
  {
   "cell_type": "markdown",
   "metadata": {},
   "source": [
    "## Summary\n",
    "\n",
    "You've learned:\n",
    "\n",
    "- ✓ Different storage backend types\n",
    "- ✓ How to configure multiple mounts\n",
    "- ✓ Copying between different backends\n",
    "- ✓ Backend capabilities and limitations\n",
    "- ✓ Configuration from YAML/JSON\n",
    "- ✓ Dynamic mount management\n",
    "\n",
    "## Key Concepts\n",
    "\n",
    "- **Mount point**: Named storage backend (e.g., `home:`, `s3:`)\n",
    "- **Backend**: Underlying storage implementation\n",
    "- **Capabilities**: What a backend can/cannot do\n",
    "- **Cross-backend copy**: Seamless data transfer\n",
    "\n",
    "## What's Next?\n",
    "\n",
    "Continue to:\n",
    "\n",
    "- **[03_file_operations.ipynb](03_file_operations.ipynb)** - Master all file operations\n",
    "- **[04_virtual_nodes.ipynb](04_virtual_nodes.ipynb)** - Learn about virtual nodes\n",
    "\n",
    "Happy configuring! ⚙️"
   ]
  }
 ],
 "metadata": {
  "kernelspec": {
   "display_name": "Python 3",
   "language": "python",
   "name": "python3"
  },
  "language_info": {
   "codemirror_mode": {
    "name": "ipython",
    "version": 3
   },
   "file_extension": ".py",
   "mimetype": "text/x-python",
   "name": "python",
   "nbconvert_exporter": "python",
   "pygments_lexer": "ipython3",
   "version": "3.12.0"
  }
 },
 "nbformat": 4,
 "nbformat_minor": 4
}