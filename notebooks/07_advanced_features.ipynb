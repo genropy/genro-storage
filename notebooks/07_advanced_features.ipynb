{
 "cells": [
  {
   "cell_type": "markdown",
   "metadata": {},
   "source": [
    "# Advanced Features and Integrations\n",
    "\n",
    "**Duration:** 35 minutes  \n",
    "**Level:** Advanced\n",
    "\n",
    "Explore advanced features for tool integration and web serving.\n",
    "\n",
    "## What You'll Learn\n",
    "\n",
    "- `local_path()` - Work with external tools\n",
    "- `call()` - Execute commands with automatic file handling\n",
    "- `serve()` - Serve files through web frameworks\n",
    "- Cloud metadata\n",
    "- Presigned URLs\n",
    "- Base64 encoding\n",
    "- MIME type detection\n",
    "\n",
    "Let's dive into advanced territory! 🚀"
   ]
  },
  {
   "cell_type": "code",
   "execution_count": null,
   "metadata": {},
   "outputs": [],
   "source": [
    "from genro_storage import StorageManager\n",
    "import tempfile\n",
    "import os\n",
    "\n",
    "storage = StorageManager()\n",
    "temp_dir = tempfile.mkdtemp()\n",
    "\n",
    "storage.configure([\n",
    "    {'name': 'mem', 'type': 'memory'},\n",
    "    {'name': 'local', 'type': 'local', 'path': temp_dir}\n",
    "])\n",
    "\n",
    "print(\"✓ Storage ready\")"
   ]
  },
  {
   "cell_type": "markdown",
   "metadata": {},
   "source": [
    "## 1. local_path() Context Manager\n",
    "\n",
    "Get a local filesystem path for external tools:"
   ]
  },
  {
   "cell_type": "code",
   "execution_count": null,
   "metadata": {},
   "outputs": [],
   "source": [
    "# Create a file in memory\n",
    "mem_file = storage.node('mem:data.txt')\n",
    "mem_file.write_text('Hello from memory storage')\n",
    "\n",
    "# Get local path (downloads if needed)\n",
    "with mem_file.local_path(mode='r') as local_path:\n",
    "    print(f\"Temporary local path: {local_path}\")\n",
    "    print(f\"File exists: {os.path.exists(local_path)}\")\n",
    "    \n",
    "    # Use with any tool that needs a file path\n",
    "    with open(local_path, 'r') as f:\n",
    "        content = f.read()\n",
    "        print(f\"Content: {content}\")\n",
    "\n",
    "print(\"\\n✓ Temp file automatically cleaned up after context\")"
   ]
  },
  {
   "cell_type": "markdown",
   "metadata": {},
   "source": [
    "## 2. local_path() Write Mode\n",
    "\n",
    "Create a local file and auto-upload:"
   ]
  },
  {
   "cell_type": "code",
   "execution_count": null,
   "metadata": {},
   "outputs": [],
   "source": [
    "# Create a new file\n",
    "output = storage.node('mem:output.txt')\n",
    "\n",
    "with output.local_path(mode='w') as local_path:\n",
    "    print(f\"Writing to: {local_path}\")\n",
    "    \n",
    "    # Write using standard Python\n",
    "    with open(local_path, 'w') as f:\n",
    "        f.write('Generated content\\n')\n",
    "        f.write('More lines...\\n')\n",
    "\n",
    "# File is automatically uploaded\n",
    "print(f\"\\n✓ File uploaded to storage\")\n",
    "print(f\"Content: {output.read_text()}\")"
   ]
  },
  {
   "cell_type": "markdown",
   "metadata": {},
   "source": [
    "## 3. local_path() Read-Write Mode\n",
    "\n",
    "Download, modify, and re-upload:"
   ]
  },
  {
   "cell_type": "code",
   "execution_count": null,
   "metadata": {},
   "outputs": [],
   "source": [
    "# Create initial file\n",
    "doc = storage.node('mem:document.txt')\n",
    "doc.write_text('Line 1\\nLine 2\\n')\n",
    "\n",
    "# Modify in place\n",
    "with doc.local_path(mode='rw') as local_path:\n",
    "    # Read current content\n",
    "    with open(local_path, 'r') as f:\n",
    "        lines = f.readlines()\n",
    "    \n",
    "    # Modify\n",
    "    lines.append('Line 3\\n')\n",
    "    \n",
    "    # Write back\n",
    "    with open(local_path, 'w') as f:\n",
    "        f.writelines(lines)\n",
    "\n",
    "print(\"Modified content:\")\n",
    "print(doc.read_text())"
   ]
  },
  {
   "cell_type": "markdown",
   "metadata": {},
   "source": [
    "## 4. call() Method - Simple Command\n",
    "\n",
    "Execute external commands with automatic file handling:"
   ]
  },
  {
   "cell_type": "code",
   "execution_count": null,
   "metadata": {},
   "outputs": [],
   "source": [
    "# Create input file\n",
    "input_file = storage.node('local:input.txt')\n",
    "input_file.write_text('apple\\nbanana\\ncherry\\n')\n",
    "\n",
    "# Create output location\n",
    "output_file = storage.node('local:sorted.txt')\n",
    "\n",
    "# Sort using Unix sort command\n",
    "try:\n",
    "    input_file.call(\n",
    "        'sort {input} > {output}',\n",
    "        input=input_file,\n",
    "        output=output_file,\n",
    "        shell=True\n",
    "    )\n",
    "    \n",
    "    print(\"Sorted content:\")\n",
    "    print(output_file.read_text())\nexcept Exception as e:\n",
    "    print(f\"Note: Sort command may not be available: {e}\")"
   ]
  },
  {
   "cell_type": "markdown",
   "metadata": {},
   "source": [
    "## 5. call() with Multiple Files\n",
    "\n",
    "Process multiple inputs:"
   ]
  },
  {
   "cell_type": "code",
   "execution_count": null,
   "metadata": {},
   "outputs": [],
   "source": [
    "# Create two files\n",
    "file1 = storage.node('local:file1.txt')\n",
    "file1.write_text('Content from file 1\\n')\n",
    "\n",
    "file2 = storage.node('local:file2.txt')\n",
    "file2.write_text('Content from file 2\\n')\n",
    "\n",
    "merged = storage.node('local:merged.txt')\n",
    "\n",
    "# Concatenate using cat\n",
    "try:\n",
    "    file1.call(\n",
    "        'cat {f1} {f2} > {out}',\n",
    "        f1=file1,\n",
    "        f2=file2,\n",
    "        out=merged,\n",
    "        shell=True\n",
    "    )\n",
    "    \n",
    "    print(\"Merged:\")\n",
    "    print(merged.read_text())\n",
    "except Exception as e:\n",
    "    print(f\"Note: cat command may not be available: {e}\")"
   ]
  },
  {
   "cell_type": "markdown",
   "metadata": {},
   "source": [
    "## 6. MIME Type Detection\n",
    "\n",
    "Automatic MIME type based on extension:"
   ]
  },
  {
   "cell_type": "code",
   "execution_count": null,
   "metadata": {},
   "outputs": [],
   "source": [
    "# Different file types\n",
    "files = [\n",
    "    ('image.jpg', 'JPG data'),\n",
    "    ('document.pdf', 'PDF content'),\n",
    "    ('video.mp4', 'Video data'),\n",
    "    ('data.json', '{\"key\": \"value\"}'),\n",
    "    ('style.css', 'body { color: red; }'),\n",
    "    ('script.js', 'console.log(\"hi\");'),\n",
    "    ('page.html', '<h1>Hello</h1>'),\n",
    "    ('archive.zip', 'ZIP data'),\n",
    "]\n",
    "\n",
    "print(\"MIME types:\")\n",
    "for filename, content in files:\n",
    "    node = storage.node(f'mem:{filename}')\n",
    "    node.write_text(content)\n",
    "    print(f\"  {filename:20s} -> {node.mimetype}\")"
   ]
  },
  {
   "cell_type": "markdown",
   "metadata": {},
   "source": [
    "## 7. Base64 Encoding\n",
    "\n",
    "Encode files as base64 or data URIs:"
   ]
  },
  {
   "cell_type": "code",
   "execution_count": null,
   "metadata": {},
   "outputs": [],
   "source": [
    "# Create small image-like file\n",
    "img = storage.node('mem:icon.png')\n",
    "img.write_bytes(b'\\x89PNG\\r\\n\\x1a\\n' + b'fake image data')\n",
    "\n",
    "# Get as data URI (for HTML)\n",
    "data_uri = img.to_base64(data_uri=True)\n",
    "print(\"Data URI (for <img src=...>):\")\n",
    "print(data_uri[:80] + \"...\")\n",
    "\n",
    "# Get just base64\n",
    "b64 = img.to_base64(data_uri=False)\n",
    "print(f\"\\nBase64 only:\")\n",
    "print(b64[:60] + \"...\")"
   ]
  },
  {
   "cell_type": "markdown",
   "metadata": {},
   "source": [
    "## 8. MD5 Hash\n",
    "\n",
    "Content-based file identification:"
   ]
  },
  {
   "cell_type": "code",
   "execution_count": null,
   "metadata": {},
   "outputs": [],
   "source": [
    "# Create files\n",
    "file_a = storage.node('mem:a.txt')\n",
    "file_a.write_text('Same content')\n",
    "\n",
    "file_b = storage.node('mem:b.txt')\n",
    "file_b.write_text('Same content')\n",
    "\n",
    "file_c = storage.node('mem:c.txt')\n",
    "file_c.write_text('Different content')\n",
    "\n",
    "print(\"MD5 hashes:\")\n",
    "print(f\"  file_a: {file_a.md5hash}\")\n",
    "print(f\"  file_b: {file_b.md5hash}\")\n",
    "print(f\"  file_c: {file_c.md5hash}\")\n",
    "\n",
    "print(f\"\\na and b same: {file_a.md5hash == file_b.md5hash}\")\n",
    "print(f\"a and c same: {file_a.md5hash == file_c.md5hash}\")"
   ]
  },
  {
   "cell_type": "markdown",
   "metadata": {},
   "source": [
    "## 9. Cloud Metadata (S3/GCS/Azure)\n",
    "\n",
    "Store custom metadata with files:"
   ]
  },
  {
   "cell_type": "code",
   "execution_count": null,
   "metadata": {},
   "outputs": [],
   "source": [
    "# Example S3 metadata usage:\n",
    "print(\"Example: S3 metadata\")\n",
    "print(\"\\n# Set metadata\")\n",
    "print(\"s3_file = storage.node('s3:document.pdf')\")\n",
    "print(\"s3_file.write_bytes(pdf_data)\")\n",
    "print(\"s3_file.set_metadata({\")\n",
    "print(\"    'author': 'John Doe',\")\n",
    "print(\"    'department': 'Engineering',\")\n",
    "print(\"    'classification': 'internal'\")\n",
    "print(\"})\")\n",
    "\n",
    "print(\"\\n# Read metadata\")\n",
    "print(\"metadata = s3_file.get_metadata()\")\n",
    "print(\"print(metadata['author'])  # 'John Doe'\")\n",
    "\n",
    "# Memory backend doesn't support metadata\n",
    "mem_file = storage.node('mem:test.txt')\n",
    "print(f\"\\nMemory backend metadata support: {mem_file.capabilities.metadata}\")"
   ]
  },
  {
   "cell_type": "markdown",
   "metadata": {},
   "source": [
    "## 10. Presigned URLs (S3/GCS)\n",
    "\n",
    "Generate temporary download links:"
   ]
  },
  {
   "cell_type": "code",
   "execution_count": null,
   "metadata": {},
   "outputs": [],
   "source": [
    "# Example S3 presigned URL:\n",
    "print(\"Example: S3 presigned URL\")\n",
    "print(\"\\n# Generate 1-hour link\")\n",
    "print(\"s3_file = storage.node('s3:private/document.pdf')\")\n",
    "print(\"url = s3_file.url(expires_in=3600)  # 1 hour\")\n",
    "print(\"print(url)\")\n",
    "print(\"# https://bucket.s3.amazonaws.com/private/document.pdf?...\")\n",
    "\n",
    "print(\"\\n# Share with user\")\n",
    "print(\"send_email(user, f'Download: {url}')\")\n",
    "\n",
    "# Memory backend doesn't support URLs\n",
    "mem_file = storage.node('mem:test.txt')\n",
    "print(f\"\\nMemory backend URL support: {mem_file.capabilities.presigned_urls}\")"
   ]
  },
  {
   "cell_type": "markdown",
   "metadata": {},
   "source": [
    "## 11. serve() for Web Frameworks\n",
    "\n",
    "Stream files through WSGI applications:"
   ]
  },
  {
   "cell_type": "code",
   "execution_count": null,
   "metadata": {},
   "outputs": [],
   "source": [
    "# Example Flask integration:\n",
    "print(\"Example: Flask file serving\")\n",
    "print(\"\"\"\n",
    "from flask import Flask\n",
    "app = Flask(__name__)\n",
    "\n",
    "@app.route('/files/<path:filename>')\n",
    "def serve_file(filename):\n",
    "    node = storage.node(f's3:files/{filename}')\n",
    "    return node.serve(\n",
    "        mimetype='auto',          # Auto-detect MIME type\n",
    "        as_attachment=False,      # Display inline\n",
    "        cache_timeout=3600,       # Cache for 1 hour\n",
    "        add_etags=True,          # Enable ETag caching\n",
    "        conditional=True          # Support If-Modified-Since\n",
    "    )\n",
    "\n",
    "@app.route('/download/<path:filename>')\n",
    "def download_file(filename):\n",
    "    node = storage.node(f's3:files/{filename}')\n",
    "    return node.serve(\n",
    "        as_attachment=True,\n",
    "        attachment_filename='document.pdf'\n",
    "    )\n",
    "\"\"\")\n",
    "\n",
    "print(\"\\n✓ Efficient streaming with ETag support\")"
   ]
  },
  {
   "cell_type": "markdown",
   "metadata": {},
   "source": [
    "## 12. fill_from_url() - Download from Web\n",
    "\n",
    "Download content from URL and save:"
   ]
  },
  {
   "cell_type": "code",
   "execution_count": null,
   "metadata": {},
   "outputs": [],
   "source": [
    "# Example URL download:\n",
    "print(\"Example: Download from URL\")\n",
    "print(\"\"\"\n",
    "# Download and save\n",
    "remote_file = storage.node('s3:downloads/readme.md')\n",
    "remote_file.fill_from_url(\n",
    "    'https://raw.githubusercontent.com/genropy/genro-storage/main/README.md',\n",
    "    timeout=30\n",
    ")\n",
    "\n",
    "print(f\"Downloaded: {remote_file.size} bytes\")\n",
    "\"\"\")\n",
    "\n",
    "print(\"\\n✓ Useful for fetching remote resources\")"
   ]
  },
  {
   "cell_type": "markdown",
   "metadata": {},
   "source": [
    "## 13. Practical: Image Processing Pipeline\n",
    "\n",
    "Complete example with external tool:"
   ]
  },
  {
   "cell_type": "code",
   "execution_count": null,
   "metadata": {},
   "outputs": [],
   "source": [
    "def process_image(source_node, dest_node, width=200):\n",
    "    \"\"\"\n",
    "    Resize image using ImageMagick (if available).\n",
    "    This is a template - actual implementation needs ImageMagick.\n",
    "    \"\"\"\n",
    "    print(f\"Processing: {source_node.basename}\")\n",
    "    \n",
    "    # Check MIME type\n",
    "    if not source_node.mimetype.startswith('image/'):\n",
    "        raise ValueError(f\"Not an image: {source_node.mimetype}\")\n",
    "    \n",
    "    # Option 1: Using call()\n",
    "    # source_node.call(\n",
    "    #     'convert {input} -resize {width}x {output}',\n",
    "    #     input=source_node,\n",
    "    #     output=dest_node,\n",
    "    #     width=width\n",
    "    # )\n",
    "    \n",
    "    # Option 2: Using local_path()\n",
    "    # with source_node.local_path('r') as src_path:\n",
    "    #     with dest_node.local_path('w') as dst_path:\n",
    "    #         subprocess.run([\n",
    "    #             'convert', src_path,\n",
    "    #             '-resize', f'{width}x',\n",
    "    #             dst_path\n",
    "    #         ])\n",
    "    \n",
    "    print(f\"✓ Would resize to {width}px width\")\n",
    "    print(f\"✓ Output: {dest_node.fullpath}\")\n",
    "\n",
    "# Example usage:\n",
    "# original = storage.node('s3:photos/vacation.jpg')\n",
    "# thumbnail = storage.node('s3:thumbnails/vacation_thumb.jpg')\n",
    "# process_image(original, thumbnail, width=200)\n",
    "\n",
    "print(\"Image processing pipeline defined\")"
   ]
  },
  {
   "cell_type": "markdown",
   "metadata": {},
   "source": [
    "## 14. Practical: Document Converter\n",
    "\n",
    "Convert between formats:"
   ]
  },
  {
   "cell_type": "code",
   "execution_count": null,
   "metadata": {},
   "outputs": [],
   "source": [
    "def convert_markdown_to_pdf(md_node, pdf_node):\n",
    "    \"\"\"\n",
    "    Convert Markdown to PDF using pandoc (if available).\n",
    "    \"\"\"\n",
    "    print(f\"Converting: {md_node.basename} -> {pdf_node.basename}\")\n",
    "    \n",
    "    # Using call() with pandoc:\n",
    "    # md_node.call(\n",
    "    #     'pandoc {input} -o {output} --pdf-engine=xelatex',\n",
    "    #     input=md_node,\n",
    "    #     output=pdf_node,\n",
    "    #     timeout=60\n",
    "    # )\n",
    "    \n",
    "    print(\"✓ Would convert MD -> PDF\")\n",
    "    print(f\"Input: {md_node.fullpath}\")\n",
    "    print(f\"Output: {pdf_node.fullpath}\")\n",
    "\n",
    "# Example:\n",
    "# markdown = storage.node('local:README.md')\n",
    "# pdf = storage.node('s3:docs/README.pdf')\n",
    "# convert_markdown_to_pdf(markdown, pdf)\n",
    "\n",
    "print(\"Document converter defined\")"
   ]
  },
  {
   "cell_type": "markdown",
   "metadata": {},
   "source": [
    "## 15. Try It Yourself! 🎯\n",
    "\n",
    "**Exercise 1:** Create a thumbnail generator:"
   ]
  },
  {
   "cell_type": "code",
   "execution_count": null,
   "metadata": {},
   "outputs": [],
   "source": [
    "def generate_thumbnails(image_dir, thumb_dir, sizes=[100, 200, 400]):\n",
    "    \"\"\"\n",
    "    Generate multiple thumbnail sizes for all images.\n",
    "    \"\"\"\n",
    "    # Your code here\n",
    "    pass"
   ]
  },
  {
   "cell_type": "markdown",
   "metadata": {},
   "source": [
    "**Exercise 2:** Video processor with metadata:"
   ]
  },
  {
   "cell_type": "code",
   "execution_count": null,
   "metadata": {},
   "outputs": [],
   "source": [
    "def process_video(video_node, output_node):\n",
    "    \"\"\"\n",
    "    Process video and set metadata:\n",
    "    - Convert to H.264\n",
    "    - Extract duration\n",
    "    - Set metadata with codec, duration, size\n",
    "    \"\"\"\n",
    "    # Your code here\n",
    "    pass"
   ]
  },
  {
   "cell_type": "markdown",
   "metadata": {},
   "source": [
    "**Exercise 3:** Smart cache with expiry:"
   ]
  },
  {
   "cell_type": "code",
   "execution_count": null,
   "metadata": {},
   "outputs": [],
   "source": [
    "def cached_download(url, cache_dir, max_age_hours=24):\n",
    "    \"\"\"\n",
    "    Download URL and cache locally.\n",
    "    Reuse cache if less than max_age_hours old.\n",
    "    Return the cached node.\n",
    "    \"\"\"\n",
    "    # Your code here\n",
    "    pass"
   ]
  },
  {
   "cell_type": "markdown",
   "metadata": {},
   "source": [
    "## 16. Cleanup"
   ]
  },
  {
   "cell_type": "code",
   "execution_count": null,
   "metadata": {},
   "outputs": [],
   "source": [
    "import shutil\n",
    "\n",
    "if os.path.exists(temp_dir):\n",
    "    shutil.rmtree(temp_dir)\n",
    "\n",
    "print(\"✓ Cleanup complete\")"
   ]
  },
  {
   "cell_type": "markdown",
   "metadata": {},
   "source": [
    "## Summary\n",
    "\n",
    "You've mastered advanced features:\n",
    "\n",
    "- ✓ `local_path()` for external tools\n",
    "- ✓ `call()` for command execution\n",
    "- ✓ `serve()` for web frameworks\n",
    "- ✓ MIME type detection\n",
    "- ✓ Base64 encoding\n",
    "- ✓ MD5 hashing\n",
    "- ✓ Cloud metadata (S3/GCS/Azure)\n",
    "- ✓ Presigned URLs\n",
    "- ✓ URL downloads\n",
    "\n",
    "## Key Methods\n",
    "\n",
    "**Tool Integration:**\n",
    "- `local_path(mode='r'|'w'|'rw')` - Get filesystem path\n",
    "- `call(command, **kwargs)` - Execute external command\n",
    "\n",
    "**Web Integration:**\n",
    "- `serve(**kwargs)` - Stream via WSGI\n",
    "- `url(expires_in=3600)` - Presigned URL\n",
    "- `fill_from_url(url)` - Download from web\n",
    "\n",
    "**Utilities:**\n",
    "- `mimetype` - MIME type detection\n",
    "- `md5hash` - Content hash\n",
    "- `to_base64()` - Base64 encoding\n",
    "- `get_metadata()` / `set_metadata()` - Cloud metadata\n",
    "\n",
    "## Best Practices\n",
    "\n",
    "✅ **Do:**\n",
    "- Use `call()` for simple command substitution\n",
    "- Use `local_path()` for complex workflows\n",
    "- Set timeouts on external commands\n",
    "- Handle errors from external tools\n",
    "- Use presigned URLs for large files\n",
    "\n",
    "❌ **Don't:**\n",
    "- Use `shell=True` with user input (security!)\n",
    "- Load large files into memory (use streaming)\n",
    "- Forget to set cache headers for web serving\n",
    "\n",
    "## What's Next?\n",
    "\n",
    "Continue to:\n",
    "\n",
    "- **[08_real_world_examples.ipynb](08_real_world_examples.ipynb)** - Complete real-world use cases\n",
    "\n",
    "You're almost done! 🎉"
   ]
  }
 ],
 "metadata": {
  "kernelspec": {
   "display_name": "Python 3",
   "language": "python",
   "name": "python3"
  },
  "language_info": {
   "codemirror_mode": {
    "name": "ipython",
    "version": 3
   },
   "file_extension": ".py",
   "mimetype": "text/x-python",
   "name": "python",
   "nbconvert_exporter": "python",
   "pygments_lexer": "ipython3",
   "version": "3.12.0"
  }
 },
 "nbformat": 4,
 "nbformat_minor": 4
}
