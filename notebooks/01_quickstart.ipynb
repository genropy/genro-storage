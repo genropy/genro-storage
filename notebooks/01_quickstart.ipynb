{
 "cells": [
  {
   "cell_type": "markdown",
   "metadata": {},
   "source": [
    "# Quick Start with genro-storage\n",
    "\n",
    "**Duration:** 15 minutes  \n",
    "**Level:** Beginner\n",
    "\n",
    "Welcome! This notebook will get you up and running with genro-storage in just a few minutes.\n",
    "\n",
    "## What You'll Learn\n",
    "\n",
    "- How to set up a storage manager\n",
    "- Create and manipulate files\n",
    "- Work with different storage backends\n",
    "- Basic file operations (read, write, copy)\n",
    "\n",
    "## Prerequisites\n",
    "\n",
    "```bash\n",
    "pip install genro-storage\n",
    "```\n",
    "\n",
    "Let's get started! 🚀"
   ]
  },
  {
   "cell_type": "markdown",
   "metadata": {},
   "source": [
    "## 1. Import and Setup\n",
    "\n",
    "First, let's import genro-storage and create a storage manager:"
   ]
  },
  {
   "cell_type": "code",
   "execution_count": null,
   "metadata": {},
   "outputs": [],
   "source": [
    "from genro_storage import StorageManager\n",
    "\n",
    "# Create a storage manager\n",
    "storage = StorageManager()\n",
    "\n",
    "print(\"✓ Storage manager created!\")"
   ]
  },
  {
   "cell_type": "markdown",
   "metadata": {},
   "source": [
    "## 2. Configure a Storage Backend\n",
    "\n",
    "Let's configure a simple in-memory storage backend (perfect for experimentation!):"
   ]
  },
  {
   "cell_type": "code",
   "execution_count": null,
   "metadata": {},
   "outputs": [],
   "source": [
    "# Configure in-memory storage (data exists only during this session)\n",
    "storage.configure([\n",
    "    {'name': 'mem', 'type': 'memory'}\n",
    "])\n",
    "\n",
    "print(\"✓ Memory storage configured!\")\n",
    "print(f\"Available mounts: {storage.get_mount_names()}\")"
   ]
  },
  {
   "cell_type": "markdown",
   "metadata": {},
   "source": [
    "## 3. Your First File: Write\n",
    "\n",
    "Let's create a file and write some text to it:"
   ]
  },
  {
   "cell_type": "code",
   "execution_count": null,
   "metadata": {},
   "outputs": [],
   "source": [
    "# Create a node (think of it as a file reference)\n",
    "my_file = storage.node('mem:hello.txt')\n",
    "\n",
    "# Write text to the file\n",
    "my_file.write_text('Hello, genro-storage!')\n",
    "\n",
    "print(\"✓ File created!\")\n",
    "print(f\"File path: {my_file.fullpath}\")\n",
    "print(f\"File exists: {my_file.exists}\")"
   ]
  },
  {
   "cell_type": "markdown",
   "metadata": {},
   "source": [
    "## 4. Your First File: Read\n",
    "\n",
    "Now let's read the content back:"
   ]
  },
  {
   "cell_type": "code",
   "execution_count": null,
   "metadata": {},
   "outputs": [],
   "source": [
    "# Read the content\n",
    "content = my_file.read_text()\n",
    "\n",
    "print(\"File content:\")\n",
    "print(content)"
   ]
  },
  {
   "cell_type": "markdown",
   "metadata": {},
   "source": [
    "## 5. File Properties\n",
    "\n",
    "StorageNode objects have useful properties:"
   ]
  },
  {
   "cell_type": "code",
   "execution_count": null,
   "metadata": {},
   "outputs": [],
   "source": [
    "print(f\"Filename: {my_file.basename}\")\n",
    "print(f\"File extension: {my_file.suffix}\")\n",
    "print(f\"File size: {my_file.size} bytes\")\n",
    "print(f\"Is file: {my_file.isfile}\")\n",
    "print(f\"Is directory: {my_file.isdir}\")"
   ]
  },
  {
   "cell_type": "markdown",
   "metadata": {},
   "source": [
    "## 6. Working with Binary Data\n",
    "\n",
    "You can also work with binary data:"
   ]
  },
  {
   "cell_type": "code",
   "execution_count": null,
   "metadata": {},
   "outputs": [],
   "source": [
    "# Create a binary file\n",
    "binary_file = storage.node('mem:data.bin')\n",
    "binary_file.write_bytes(b'\\x00\\x01\\x02\\x03')\n",
    "\n",
    "# Read it back\n",
    "data = binary_file.read_bytes()\n",
    "print(f\"Binary data: {data}\")\n",
    "print(f\"Data length: {len(data)} bytes\")"
   ]
  },
  {
   "cell_type": "markdown",
   "metadata": {},
   "source": [
    "## 7. Copying Files\n",
    "\n",
    "Copying is super easy:"
   ]
  },
  {
   "cell_type": "code",
   "execution_count": null,
   "metadata": {},
   "outputs": [],
   "source": [
    "# Create destination\n",
    "copy_file = storage.node('mem:hello_copy.txt')\n",
    "\n",
    "# Copy!\n",
    "my_file.copy(copy_file)\n",
    "\n",
    "print(\"✓ File copied!\")\n",
    "print(f\"Original: {my_file.read_text()}\")\n",
    "print(f\"Copy: {copy_file.read_text()}\")"
   ]
  },
  {
   "cell_type": "markdown",
   "metadata": {},
   "source": [
    "## 8. Working with Directories\n",
    "\n",
    "Let's create a directory structure:"
   ]
  },
  {
   "cell_type": "code",
   "execution_count": null,
   "metadata": {},
   "outputs": [],
   "source": [
    "# Create a directory\n",
    "my_dir = storage.node('mem:documents')\n",
    "my_dir.mkdir()\n",
    "\n",
    "# Create files in the directory\n",
    "doc1 = my_dir.child('report.txt')\n",
    "doc1.write_text('Annual Report 2024')\n",
    "\n",
    "doc2 = my_dir.child('notes.txt')\n",
    "doc2.write_text('Meeting notes')\n",
    "\n",
    "print(\"✓ Directory and files created!\")\n",
    "print(f\"Directory exists: {my_dir.exists}\")\n",
    "print(f\"Is directory: {my_dir.isdir}\")"
   ]
  },
  {
   "cell_type": "markdown",
   "metadata": {},
   "source": [
    "## 9. Listing Directory Contents\n",
    "\n",
    "You can list all files in a directory:"
   ]
  },
  {
   "cell_type": "code",
   "execution_count": null,
   "metadata": {},
   "outputs": [],
   "source": [
    "print(\"Files in 'documents' directory:\")\n",
    "for child in my_dir.children():\n",
    "    print(f\"  - {child.basename} ({child.size} bytes)\")"
   ]
  },
  {
   "cell_type": "markdown",
   "metadata": {},
   "source": [
    "## 10. Using Context Managers\n",
    "\n",
    "You can use Python's `with` statement for file operations:"
   ]
  },
  {
   "cell_type": "code",
   "execution_count": null,
   "metadata": {},
   "outputs": [],
   "source": [
    "# Write using context manager\n",
    "log_file = storage.node('mem:log.txt')\n",
    "\n",
    "with log_file.open('w') as f:\n",
    "    f.write('Log entry 1\\n')\n",
    "    f.write('Log entry 2\\n')\n",
    "    f.write('Log entry 3\\n')\n",
    "\n",
    "# Read using context manager\n",
    "with log_file.open('r') as f:\n",
    "    content = f.read()\n",
    "    \n",
    "print(\"Log file content:\")\n",
    "print(content)"
   ]
  },
  {
   "cell_type": "markdown",
   "metadata": {},
   "source": [
    "## 11. Try It Yourself! 🎯\n",
    "\n",
    "Now it's your turn! Try these exercises:\n",
    "\n",
    "**Exercise 1:** Create a file called `my_data.txt` with your name and favorite color:"
   ]
  },
  {
   "cell_type": "code",
   "execution_count": null,
   "metadata": {},
   "outputs": [],
   "source": [
    "# Your code here\n",
    "my_data = storage.node('mem:my_data.txt')\n",
    "# ...\n"
   ]
  },
  {
   "cell_type": "markdown",
   "metadata": {},
   "source": [
    "**Exercise 2:** Create a directory called `photos` and add 3 files in it:"
   ]
  },
  {
   "cell_type": "code",
   "execution_count": null,
   "metadata": {},
   "outputs": [],
   "source": [
    "# Your code here\n",
    "photos_dir = storage.node('mem:photos')\n",
    "# ...\n"
   ]
  },
  {
   "cell_type": "markdown",
   "metadata": {},
   "source": [
    "**Exercise 3:** Copy all files from `documents` directory to a new `backup` directory:"
   ]
  },
  {
   "cell_type": "code",
   "execution_count": null,
   "metadata": {},
   "outputs": [],
   "source": [
    "# Your code here\n",
    "backup_dir = storage.node('mem:backup')\n",
    "# ...\n"
   ]
  },
  {
   "cell_type": "markdown",
   "metadata": {},
   "source": [
    "## 12. Multiple Storage Backends\n",
    "\n",
    "One of the most powerful features: you can configure multiple storage backends and seamlessly copy between them!"
   ]
  },
  {
   "cell_type": "code",
   "execution_count": null,
   "metadata": {},
   "outputs": [],
   "source": [
    "import tempfile\n",
    "import os\n",
    "\n",
    "# Add a local filesystem backend\n",
    "temp_dir = tempfile.mkdtemp()\n",
    "\n",
    "storage.configure([\n",
    "    {'name': 'local', 'type': 'local', 'path': temp_dir}\n",
    "], replace=False)  # Don't replace existing mounts\n",
    "\n",
    "print(f\"Available mounts: {storage.get_mount_names()}\")\n",
    "\n",
    "# Copy from memory to local filesystem\n",
    "mem_file = storage.node('mem:hello.txt')\n",
    "local_file = storage.node('local:hello_on_disk.txt')\n",
    "\n",
    "mem_file.copy(local_file)\n",
    "\n",
    "print(f\"\\n✓ Copied from memory to disk!\")\n",
    "print(f\"Local file path: {local_file.fullpath}\")\n",
    "print(f\"File exists on disk: {os.path.exists(os.path.join(temp_dir, 'hello_on_disk.txt'))}\")\n",
    "\n",
    "# Cleanup\n",
    "import shutil\n",
    "shutil.rmtree(temp_dir)"
   ]
  },
  {
   "cell_type": "markdown",
   "metadata": {},
   "source": [
    "## 13. Summary\n",
    "\n",
    "Congratulations! 🎉 You've learned:\n",
    "\n",
    "- ✓ How to create a StorageManager\n",
    "- ✓ Configure storage backends (memory, local)\n",
    "- ✓ Create nodes for files and directories\n",
    "- ✓ Read and write text and binary data\n",
    "- ✓ Access file properties\n",
    "- ✓ Copy files between locations\n",
    "- ✓ Work with directories\n",
    "- ✓ Use context managers\n",
    "- ✓ Work with multiple storage backends\n",
    "\n",
    "## Key Concepts\n",
    "\n",
    "- **StorageManager**: The main entry point, manages backends\n",
    "- **Mount point**: A named storage backend (like `mem:`, `local:`)\n",
    "- **StorageNode**: Represents a file or directory\n",
    "- **Path syntax**: `mount:path/to/file`\n",
    "\n",
    "## What's Next?\n",
    "\n",
    "Ready to dive deeper? Continue to:\n",
    "\n",
    "- **[02_backends_and_mounts.ipynb](02_backends_and_mounts.ipynb)** - Learn about different storage backends (S3, GCS, Azure, HTTP)\n",
    "- **[03_file_operations.ipynb](03_file_operations.ipynb)** - Master all file and directory operations\n",
    "\n",
    "## Questions?\n",
    "\n",
    "- [Documentation](https://genro-storage.readthedocs.io/)\n",
    "- [API Reference](../docs/api_reference.rst)\n",
    "- [GitHub Issues](https://github.com/genropy/genro-storage/issues)\n",
    "\n",
    "Happy coding! 🚀"
   ]
  }
 ],
 "metadata": {
  "kernelspec": {
   "display_name": "Python 3",
   "language": "python",
   "name": "python3"
  },
  "language_info": {
   "codemirror_mode": {
    "name": "ipython",
    "version": 3
   },
   "file_extension": ".py",
   "mimetype": "text/x-python",
   "name": "python",
   "nbconvert_exporter": "python",
   "pygments_lexer": "ipython3",
   "version": "3.12.0"
  }
 },
 "nbformat": 4,
 "nbformat_minor": 4
}
