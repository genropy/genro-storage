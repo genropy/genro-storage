{
 "cells": [
  {
   "cell_type": "markdown",
   "metadata": {},
   "source": [
    "# File and Directory Operations\n",
    "\n",
    "**Duration:** 25 minutes  \n",
    "**Level:** Beginner\n",
    "\n",
    "Master all file and directory operations in genro-storage.\n",
    "\n",
    "## What You'll Learn\n",
    "\n",
    "- Reading and writing files (text and binary)\n",
    "- File properties and metadata\n",
    "- Directory creation and navigation\n",
    "- Copying and moving files\n",
    "- Deleting files and directories\n",
    "- Working with paths\n",
    "- Context managers and streaming\n",
    "\n",
    "Let's dive in! 📁"
   ]
  },
  {
   "cell_type": "code",
   "execution_count": null,
   "metadata": {},
   "outputs": [],
   "source": [
    "from genro_storage import StorageManager\n",
    "import tempfile\n",
    "import os\n",
    "\n",
    "# Setup\n",
    "storage = StorageManager()\n",
    "temp_dir = tempfile.mkdtemp()\n",
    "\n",
    "storage.configure([\n",
    "    {'name': 'mem', 'type': 'memory'},\n",
    "    {'name': 'local', 'type': 'local', 'path': temp_dir}\n",
    "])\n",
    "\n",
    "print(\"✓ Storage configured\")"
   ]
  },
  {
   "cell_type": "markdown",
   "metadata": {},
   "source": [
    "## 1. Reading and Writing Text\n",
    "\n",
    "The simplest operations:"
   ]
  },
  {
   "cell_type": "code",
   "execution_count": null,
   "metadata": {},
   "outputs": [],
   "source": "# Write text\nnote = storage.node('mem:note.txt')\nnote.write('Hello, World!\\nThis is a test.')\n\n# Read text\ncontent = note.read()\nprint(\"Content:\")\nprint(content)\n\n# Write with different encoding\nitalian = storage.node('mem:italian.txt')\nitalian.write('Ciao! Come stai? È bello!', encoding='utf-8')\n\nprint(f\"\\n✓ Text operations complete\")\nprint(f\"Note size: {note.size} bytes\")\nprint(f\"Italian size: {italian.size} bytes\")"
  },
  {
   "cell_type": "markdown",
   "metadata": {},
   "source": [
    "## 2. Reading and Writing Binary Data\n",
    "\n",
    "For non-text files (images, videos, etc.):"
   ]
  },
  {
   "cell_type": "code",
   "execution_count": null,
   "metadata": {},
   "outputs": [],
   "source": "# Simulate image data\nfake_image = b'\\x89PNG\\r\\n\\x1a\\n' + b'\\x00' * 100\n\n# Write binary\nimage = storage.node('mem:photo.png')\nimage.write(fake_image, mode='wb')\n\n# Read binary\ndata = image.read(mode='rb')\n\nprint(f\"✓ Binary file written\")\nprint(f\"Size: {image.size} bytes\")\nprint(f\"First 8 bytes: {data[:8]}\")\nprint(f\"Is PNG: {data.startswith(b'\\x89PNG')}\")"
  },
  {
   "cell_type": "markdown",
   "metadata": {},
   "source": [
    "## 3. File Properties\n",
    "\n",
    "Access metadata about files:"
   ]
  },
  {
   "cell_type": "code",
   "execution_count": null,
   "metadata": {},
   "outputs": [],
   "source": "doc = storage.node('mem:document.pdf')\ndoc.write('PDF content here...')\n\nprint(\"File Properties:\")\nprint(f\"  Full path: {doc.fullpath}\")\nprint(f\"  Basename: {doc.basename}\")\nprint(f\"  Stem: {doc.stem}\")\nprint(f\"  Suffix: {doc.suffix}\")\nprint(f\"  Size: {doc.size} bytes\")\nprint(f\"  Modified time: {doc.mtime}\")\nprint(f\"  Exists: {doc.exists}\")\nprint(f\"  Is file: {doc.isfile}\")\nprint(f\"  Is directory: {doc.isdir}\")\nprint(f\"  MIME type: {doc.mimetype}\")\nprint(f\"  MD5 hash: {doc.md5hash}\")"
  },
  {
   "cell_type": "markdown",
   "metadata": {},
   "source": [
    "## 4. Checking File Existence\n",
    "\n",
    "Before reading or writing:"
   ]
  },
  {
   "cell_type": "code",
   "execution_count": null,
   "metadata": {},
   "outputs": [],
   "source": "file1 = storage.node('mem:existing.txt')\nfile1.write('I exist!')\n\nfile2 = storage.node('mem:nonexistent.txt')\n\nprint(f\"file1 exists: {file1.exists}\")\nprint(f\"file2 exists: {file2.exists}\")\n\n# Safe reading\nif file1.exists:\n    print(f\"\\nContent: {file1.read()}\")\nelse:\n    print(\"\\nFile does not exist!\")\n\n# Try reading non-existent (will raise error)\ntry:\n    file2.read()\nexcept FileNotFoundError as e:\n    print(f\"\\n✓ Error caught: {e}\")"
  },
  {
   "cell_type": "markdown",
   "metadata": {},
   "source": [
    "## 5. Creating Directories\n",
    "\n",
    "Organize files in directories:"
   ]
  },
  {
   "cell_type": "code",
   "execution_count": null,
   "metadata": {},
   "outputs": [],
   "source": [
    "# Simple directory\n",
    "docs = storage.node('mem:documents')\n",
    "docs.mkdir()\n",
    "\n",
    "print(f\"Directory created: {docs.exists} and {docs.isdir}\")\n",
    "\n",
    "# Nested directories with parents=True\n",
    "reports = storage.node('mem:company/reports/2024/q4')\n",
    "reports.mkdir(parents=True)\n",
    "\n",
    "print(f\"Nested directory created: {reports.exists}\")\n",
    "\n",
    "# With exist_ok to avoid errors\n",
    "docs.mkdir(exist_ok=True)  # Doesn't raise error\n",
    "\n",
    "print(\"✓ Directory operations complete\")"
   ]
  },
  {
   "cell_type": "markdown",
   "metadata": {},
   "source": [
    "## 6. Navigating Paths\n",
    "\n",
    "Move through directory structure:"
   ]
  },
  {
   "cell_type": "code",
   "execution_count": null,
   "metadata": {},
   "outputs": [],
   "source": "# Create a file in a directory\nreport_file = storage.node('mem:company/reports/2024/q4/sales.txt')\nreport_file.parent.mkdir(parents=True, exist_ok=True)\nreport_file.write('Q4 Sales: $1M')\n\n# Navigate using parent\nprint(f\"File: {report_file.fullpath}\")\nprint(f\"Parent: {report_file.parent.fullpath}\")\nprint(f\"Grandparent: {report_file.parent.parent.fullpath}\")\n\n# Navigate using child\ncompany = storage.node('mem:company')\nq4_dir = company.child('reports', '2024', 'q4')\nprint(f\"\\nNavigated to: {q4_dir.fullpath}\")\n\n# Access file through navigation\nsales = q4_dir.child('sales.txt')\nprint(f\"Sales content: {sales.read()}\")"
  },
  {
   "cell_type": "markdown",
   "metadata": {},
   "source": [
    "## 7. Listing Directory Contents\n",
    "\n",
    "Explore what's in a directory:"
   ]
  },
  {
   "cell_type": "code",
   "execution_count": null,
   "metadata": {},
   "outputs": [],
   "source": "# Create some files\nproj_dir = storage.node('mem:project')\nproj_dir.mkdir()\n\nproj_dir.child('README.md').write('# Project')\nproj_dir.child('main.py').write('print(\"hello\")')\nproj_dir.child('config.json').write('{\"debug\": true}')\n\n# Create subdirectory\nsrc_dir = proj_dir.child('src')\nsrc_dir.mkdir()\nsrc_dir.child('app.py').write('# Main app')\n\n# List all children\nprint(\"Project contents:\")\nfor child in proj_dir.children():\n    type_str = 'DIR' if child.isdir else 'FILE'\n    size_str = f\"({child.size} bytes)\" if child.isfile else \"\"\n    print(f\"  [{type_str}] {child.basename} {size_str}\")"
  },
  {
   "cell_type": "markdown",
   "metadata": {},
   "source": [
    "## 8. Copying Files\n",
    "\n",
    "Duplicate files and directories:"
   ]
  },
  {
   "cell_type": "code",
   "execution_count": null,
   "metadata": {},
   "outputs": [],
   "source": "# Simple file copy\noriginal = storage.node('mem:original.txt')\noriginal.write('Original content')\n\ncopy = storage.node('mem:copy.txt')\noriginal.copy(copy)\n\nprint(f\"✓ File copied\")\nprint(f\"Original: {original.read()}\")\nprint(f\"Copy: {copy.read()}\")\n\n# Copy to different backend\nlocal_copy = storage.node('local:saved.txt')\noriginal.copy(local_copy)\n\nprint(f\"\\n✓ Copied to local filesystem\")\nprint(f\"Path: {local_copy.fullpath}\")\n\n# Copy directory recursively\nbackup_dir = storage.node('mem:project_backup')\nproj_dir.copy(backup_dir)\n\nprint(f\"\\n✓ Directory copied\")\nprint(f\"Backup contains {len(list(backup_dir.children()))} items\")"
  },
  {
   "cell_type": "markdown",
   "metadata": {},
   "source": [
    "## 9. Moving Files\n",
    "\n",
    "Move (rename) files:"
   ]
  },
  {
   "cell_type": "code",
   "execution_count": null,
   "metadata": {},
   "outputs": [],
   "source": "# Create a file\ntemp_file = storage.node('mem:temp_name.txt')\ntemp_file.write('Content to move')\n\nprint(f\"Before move: {temp_file.fullpath} exists={temp_file.exists}\")\n\n# Move to new location\nfinal_file = storage.node('mem:final_name.txt')\ntemp_file.move(final_file)\n\nprint(f\"After move: {temp_file.fullpath} exists={temp_file.exists}\")\nprint(f\"New location: {final_file.fullpath} exists={final_file.exists}\")\nprint(f\"Content preserved: {final_file.read()}\")\n\n# Note: temp_file is automatically updated to point to new location\nprint(f\"\\ntemp_file now points to: {temp_file.fullpath}\")"
  },
  {
   "cell_type": "markdown",
   "metadata": {},
   "source": [
    "## 10. Deleting Files and Directories\n",
    "\n",
    "Remove files when no longer needed:"
   ]
  },
  {
   "cell_type": "code",
   "execution_count": null,
   "metadata": {},
   "outputs": [],
   "source": "# Create files to delete\ntrash1 = storage.node('mem:delete_me.txt')\ntrash1.write('Delete this')\n\nprint(f\"Before delete: {trash1.exists}\")\n\n# Delete file\ntrash1.delete()\n\nprint(f\"After delete: {trash1.exists}\")\n\n# Delete directory (recursive)\ntrash_dir = storage.node('mem:trash_dir')\ntrash_dir.mkdir()\ntrash_dir.child('file1.txt').write('trash')\ntrash_dir.child('file2.txt').write('trash')\n\nprint(f\"\\nDirectory exists: {trash_dir.exists}\")\ntrash_dir.delete()\nprint(f\"After delete: {trash_dir.exists}\")"
  },
  {
   "cell_type": "markdown",
   "metadata": {},
   "source": [
    "## 11. Context Managers (with statement)\n",
    "\n",
    "Use familiar Python file operations:"
   ]
  },
  {
   "cell_type": "code",
   "execution_count": null,
   "metadata": {},
   "outputs": [],
   "source": [
    "log = storage.node('mem:app.log')\n",
    "\n",
    "# Write mode\n",
    "with log.open('w') as f:\n",
    "    f.write('Application started\\n')\n",
    "    f.write('Loading configuration...\\n')\n",
    "    f.write('Ready!\\n')\n",
    "\n",
    "# Read mode\n",
    "with log.open('r') as f:\n",
    "    for line in f:\n",
    "        print(f\"  LOG: {line.strip()}\")\n",
    "\n",
    "# Append mode\n",
    "with log.open('a') as f:\n",
    "    f.write('New log entry\\n')\n",
    "\n",
    "print(f\"\\n✓ Log has {log.size} bytes\")"
   ]
  },
  {
   "cell_type": "markdown",
   "metadata": {},
   "source": [
    "## 12. Working with Large Files\n",
    "\n",
    "Stream data for memory efficiency:"
   ]
  },
  {
   "cell_type": "code",
   "execution_count": null,
   "metadata": {},
   "outputs": [],
   "source": [
    "# Create a \"large\" file\n",
    "large = storage.node('mem:large.txt')\n",
    "\n",
    "# Write in chunks\n",
    "with large.open('w') as f:\n",
    "    for i in range(1000):\n",
    "        f.write(f\"Line {i}: This is some data\\n\")\n",
    "\n",
    "print(f\"Large file created: {large.size} bytes\")\n",
    "\n",
    "# Read in chunks\n",
    "line_count = 0\n",
    "with large.open('r') as f:\n",
    "    for line in f:\n",
    "        line_count += 1\n",
    "\n",
    "print(f\"Lines in file: {line_count}\")\n",
    "\n",
    "# Read specific number of bytes\n",
    "with large.open('rb') as f:\n",
    "    first_100 = f.read(100)\n",
    "    print(f\"\\nFirst 100 bytes: {first_100[:50]}...\")"
   ]
  },
  {
   "cell_type": "markdown",
   "metadata": {},
   "source": [
    "## 13. Conditional Writing\n",
    "\n",
    "Only write if content changed:"
   ]
  },
  {
   "cell_type": "code",
   "execution_count": null,
   "metadata": {},
   "outputs": [],
   "source": "config = storage.node('mem:config.txt')\nconfig.write('version=1.0')\n\n# Try writing same content\nchanged = config.write('version=1.0', skip_if_unchanged=True)\nprint(f\"Content changed: {changed}\")\n\n# Write different content\nchanged = config.write('version=2.0', skip_if_unchanged=True)\nprint(f\"Content changed: {changed}\")\n\nprint(f\"\\nFinal content: {config.read()}\")"
  },
  {
   "cell_type": "markdown",
   "metadata": {},
   "source": [
    "## 14. File Comparison\n",
    "\n",
    "Compare files by content:"
   ]
  },
  {
   "cell_type": "code",
   "execution_count": null,
   "metadata": {},
   "outputs": [],
   "source": "file_a = storage.node('mem:a.txt')\nfile_a.write('Same content')\n\nfile_b = storage.node('mem:b.txt')\nfile_b.write('Same content')\n\nfile_c = storage.node('mem:c.txt')\nfile_c.write('Different content')\n\n# Compare by hash\nprint(f\"A and B same: {file_a.md5hash == file_b.md5hash}\")\nprint(f\"A and C same: {file_a.md5hash == file_c.md5hash}\")\n\n# Compare by size (faster)\nprint(f\"\\nA and B size match: {file_a.size == file_b.size}\")\nprint(f\"A and C size match: {file_a.size == file_c.size}\")\n\n# Using == operator\nprint(f\"\\nA == B: {file_a == file_b}\")\nprint(f\"A == C: {file_a == file_c}\")"
  },
  {
   "cell_type": "markdown",
   "metadata": {},
   "source": [
    "## 15. Try It Yourself! 🎯\n",
    "\n",
    "**Exercise 1:** Create a directory structure for a blog:\n",
    "```\n",
    "blog/\n",
    "  posts/\n",
    "    2024/\n",
    "      01-first-post.md\n",
    "      02-second-post.md\n",
    "  assets/\n",
    "    images/\n",
    "    css/\n",
    "```"
   ]
  },
  {
   "cell_type": "code",
   "execution_count": null,
   "metadata": {},
   "outputs": [],
   "source": [
    "# Your code here\n"
   ]
  },
  {
   "cell_type": "markdown",
   "metadata": {},
   "source": [
    "**Exercise 2:** Write a function that counts total files and directories:"
   ]
  },
  {
   "cell_type": "code",
   "execution_count": null,
   "metadata": {},
   "outputs": [],
   "source": [
    "def count_items(directory):\n",
    "    \"\"\"Count files and directories recursively\"\"\"\n",
    "    # Your code here\n",
    "    pass\n",
    "\n",
    "# Test it\n",
    "# blog = storage.node('mem:blog')\n",
    "# files, dirs = count_items(blog)\n",
    "# print(f\"Files: {files}, Directories: {dirs}\")"
   ]
  },
  {
   "cell_type": "markdown",
   "metadata": {},
   "source": [
    "**Exercise 3:** Create a backup function that copies with timestamp:"
   ]
  },
  {
   "cell_type": "code",
   "execution_count": null,
   "metadata": {},
   "outputs": [],
   "source": [
    "from datetime import datetime\n",
    "\n",
    "def backup_with_timestamp(source_node, backup_dir):\n",
    "    \"\"\"\n",
    "    Copy file to backup_dir with timestamp in name.\n",
    "    Example: file.txt -> file_20240115_143022.txt\n",
    "    \"\"\"\n",
    "    # Your code here\n",
    "    pass\n",
    "\n",
    "# Test it\n",
    "# important = storage.node('mem:important.txt')\n",
    "# important.write_text('Critical data')\n",
    "# backup_dir = storage.node('mem:backups')\n",
    "# backup_dir.mkdir()\n",
    "# backup_with_timestamp(important, backup_dir)"
   ]
  },
  {
   "cell_type": "markdown",
   "metadata": {},
   "source": [
    "## 16. Cleanup"
   ]
  },
  {
   "cell_type": "code",
   "execution_count": null,
   "metadata": {},
   "outputs": [],
   "source": [
    "import shutil\n",
    "\n",
    "if os.path.exists(temp_dir):\n",
    "    shutil.rmtree(temp_dir)\n",
    "\n",
    "print(\"✓ Cleanup complete\")"
   ]
  },
  {
   "cell_type": "markdown",
   "metadata": {},
   "source": "## Summary\n\nYou've mastered:\n\n- ✓ Reading and writing text and binary files\n- ✓ File properties (size, mtime, type, hash)\n- ✓ Creating and navigating directories\n- ✓ Listing directory contents\n- ✓ Copying, moving, and deleting files\n- ✓ Context managers for file operations\n- ✓ Streaming large files\n- ✓ Conditional writes and file comparison\n\n## Key Methods\n\n**Reading:**\n- `read()`, `read(mode='rb')`, `open('r')`\n\n**Writing:**\n- `write()`, `write(mode='wb')`, `open('w')`\n\n**Properties:**\n- `exists`, `isfile`, `isdir`, `size`, `mtime`, `basename`, `suffix`\n\n**Navigation:**\n- `parent`, `child()`, `children()`\n\n**Operations:**\n- `mkdir()`, `copy()`, `move()`, `delete()`\n\n## What's Next?\n\nReady for advanced features? Continue to:\n\n- **[04_virtual_nodes.ipynb](04_virtual_nodes.ipynb)** - Learn about iternode, diffnode, and zip\n- **[05_copy_strategies.ipynb](05_copy_strategies.ipynb)** - Smart copying with skip strategies\n\nHappy file handling! 📂"
  }
 ],
 "metadata": {
  "kernelspec": {
   "display_name": "Python 3",
   "language": "python",
   "name": "python3"
  },
  "language_info": {
   "codemirror_mode": {
    "name": "ipython",
    "version": 3
   },
   "file_extension": ".py",
   "mimetype": "text/x-python",
   "name": "python",
   "nbconvert_exporter": "python",
   "pygments_lexer": "ipython3",
   "version": "3.12.0"
  }
 },
 "nbformat": 4,
 "nbformat_minor": 4
}