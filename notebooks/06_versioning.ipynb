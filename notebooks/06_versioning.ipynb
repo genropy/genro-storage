{
 "cells": [
  {
   "cell_type": "markdown",
   "metadata": {},
   "source": [
    "# S3 File Versioning\n",
    "\n",
    "**Duration:** 30 minutes  \n",
    "**Level:** Intermediate\n",
    "\n",
    "**Note:** This notebook requires S3 access. Examples use mock S3 backend for demonstration.\n",
    "\n",
    "## What You'll Learn\n",
    "\n",
    "- S3 versioning capabilities\n",
    "- Accessing previous versions\n",
    "- Version history and metadata\n",
    "- Comparing versions\n",
    "- Compacting redundant versions\n",
    "- Avoiding duplicate versions\n",
    "\n",
    "## What is Versioning?\n",
    "\n",
    "S3 versioning automatically preserves all versions of files. Every time you modify a file:\n",
    "- Old version is kept\n",
    "- New version is created\n",
    "- You can access any past version\n",
    "- You can rollback changes\n",
    "\n",
    "**Important:** Versioning must be enabled on the S3 bucket first!\n",
    "\n",
    "Let's explore! ⏰"
   ]
  },
  {
   "cell_type": "code",
   "execution_count": null,
   "metadata": {},
   "outputs": [],
   "source": [
    "from genro_storage import StorageManager\n",
    "\n",
    "# Note: This example uses memory backend for demonstration\n",
    "# In real usage, configure with S3:\n",
    "# storage.configure([{\n",
    "#     'name': 's3',\n",
    "#     'type': 's3',\n",
    "#     'bucket': 'my-bucket',\n",
    "#     'region': 'us-east-1'\n",
    "# }])\n",
    "\n",
    "storage = StorageManager()\n",
    "storage.configure([{'name': 'mem', 'type': 'memory'}])\n",
    "\n",
    "print(\"✓ Storage ready\")\n",
    "print(\"\\nNote: Memory backend doesn't support versioning.\")\n",
    "print(\"This notebook shows the API; S3 examples require real S3 access.\")"
   ]
  },
  {
   "cell_type": "markdown",
   "metadata": {},
   "source": [
    "## 1. Checking Versioning Capability\n",
    "\n",
    "First, check if backend supports versioning:"
   ]
  },
  {
   "cell_type": "code",
   "execution_count": null,
   "metadata": {},
   "outputs": [],
   "source": [
    "# Check capabilities\n",
    "node = storage.node('mem:test.txt')\n",
    "caps = node.capabilities\n",
    "\n",
    "print(\"Backend capabilities:\")\n",
    "print(f\"  Versioning: {caps.versioning}\")\n",
    "print(f\"  Version listing: {caps.version_listing}\")\n",
    "print(f\"  Version access: {caps.version_access}\")\n",
    "\n",
    "# For S3 with versioning enabled:\n",
    "# s3_node = storage.node('s3:document.pdf')\n",
    "# if s3_node.capabilities.versioning:\n",
    "#     print(\"✓ Versioning available!\")"
   ]
  },
  {
   "cell_type": "markdown",
   "metadata": {},
   "source": [
    "## 2. Version Count\n",
    "\n",
    "Check how many versions exist:"
   ]
  },
  {
   "cell_type": "code",
   "execution_count": null,
   "metadata": {},
   "outputs": [],
   "source": [
    "# Memory backend returns 0\n",
    "node = storage.node('mem:file.txt')\n",
    "node.write_text('Version 1')\n",
    "\n",
    "print(f\"Version count: {node.version_count}\")\n",
    "\n",
    "# For S3:\n",
    "# s3_file = storage.node('s3:config.json')\n",
    "# s3_file.write_text('{\"v\": 1}')\n",
    "# s3_file.write_text('{\"v\": 2}')\n",
    "# s3_file.write_text('{\"v\": 3}')\n",
    "# print(f\"S3 versions: {s3_file.version_count}\")  # Would show 3+"
   ]
  },
  {
   "cell_type": "markdown",
   "metadata": {},
   "source": [
    "## 3. Listing Versions (S3 Only)\n",
    "\n",
    "Get metadata for all versions:"
   ]
  },
  {
   "cell_type": "code",
   "execution_count": null,
   "metadata": {},
   "outputs": [],
   "source": [
    "# Example S3 version listing:\n",
    "example_versions = [\n",
    "    {\n",
    "        'version_id': 'abc123...',\n",
    "        'last_modified': '2024-01-15T10:30:00Z',\n",
    "        'size': 1024,\n",
    "        'etag': 'a1b2c3...',\n",
    "        'is_latest': False\n",
    "    },\n",
    "    {\n",
    "        'version_id': 'def456...',\n",
    "        'last_modified': '2024-01-15T14:20:00Z',\n",
    "        'size': 2048,\n",
    "        'etag': 'd4e5f6...',\n",
    "        'is_latest': True\n",
    "    }\n",
    "]\n",
    "\n",
    "print(\"Example version list:\")\n",
    "for i, v in enumerate(example_versions):\n",
    "    marker = \"⭐\" if v['is_latest'] else \"  \"\n",
    "    print(f\"{marker} Version {-i-1}: {v['last_modified']} ({v['size']} bytes)\")\n",
    "\n",
    "# Real S3 usage:\n",
    "# for v in s3_file.versions:\n",
    "#     print(f\"Version: {v['version_id']}, Modified: {v['last_modified']}\")"
   ]
  },
  {
   "cell_type": "markdown",
   "metadata": {},
   "source": [
    "## 4. Accessing Previous Versions\n",
    "\n",
    "Read old versions using negative indexing:"
   ]
  },
  {
   "cell_type": "code",
   "execution_count": null,
   "metadata": {},
   "outputs": [],
   "source": [
    "# Example S3 version access:\n",
    "print(\"Example version access:\")\n",
    "print(\"\\n# Read current version (latest)\")\n",
    "print(\"with s3_file.open() as f:\")\n",
    "print(\"    current = f.read()\")\n",
    "\n",
    "print(\"\\n# Read previous version\")\n",
    "print(\"with s3_file.open(version=-2) as f:\")\n",
    "print(\"    previous = f.read()\")\n",
    "\n",
    "print(\"\\n# Read oldest version\")\n",
    "print(\"with s3_file.open(version=0) as f:\")\n",
    "print(\"    original = f.read()\")\n",
    "\n",
    "print(\"\\n# Read by version ID\")\n",
    "print(\"with s3_file.open(version='abc123...') as f:\")\n",
    "print(\"    specific = f.read()\")"
   ]
  },
  {
   "cell_type": "markdown",
   "metadata": {},
   "source": [
    "## 5. Time Travel with as_of\n",
    "\n",
    "Access version from specific date:"
   ]
  },
  {
   "cell_type": "code",
   "execution_count": null,
   "metadata": {},
   "outputs": [],
   "source": [
    "from datetime import datetime, timedelta\n",
    "\n",
    "# Example time travel:\n",
    "print(\"Example time-based access:\")\n",
    "print(\"\\n# How was the file yesterday?\")\n",
    "print(\"yesterday = datetime.now() - timedelta(days=1)\")\n",
    "print(\"with s3_file.open(as_of=yesterday) as f:\")\n",
    "print(\"    old_content = f.read()\")\n",
    "\n",
    "print(\"\\n# Version from specific date\")\n",
    "print(\"specific_date = datetime(2024, 1, 15, 10, 30)\")\n",
    "print(\"with s3_file.open(as_of=specific_date) as f:\")\n",
    "print(\"    content = f.read()\")"
   ]
  },
  {
   "cell_type": "markdown",
   "metadata": {},
   "source": [
    "## 6. Comparing Versions with diffnode\n",
    "\n",
    "Compare different versions:"
   ]
  },
  {
   "cell_type": "code",
   "execution_count": null,
   "metadata": {},
   "outputs": [],
   "source": [
    "# Create example versions\n",
    "v1 = storage.node('mem:config_v1.txt')\n",
    "v1.write_text('timeout: 30\\nretries: 3\\n')\n",
    "\n",
    "v2 = storage.node('mem:config_v2.txt')\n",
    "v2.write_text('timeout: 60\\nretries: 5\\n')\n",
    "\n",
    "# Compare\n",
    "diff = storage.diffnode(v1, v2)\n",
    "print(\"Changes between versions:\")\n",
    "print(diff.read_text())\n",
    "\n",
    "# In S3, you would create version-specific nodes:\n",
    "# current = storage.node('s3:config.txt')\n",
    "# previous = storage.node('s3:config.txt', version=-2)\n",
    "# diff = storage.diffnode(previous, current)\n",
    "# print(diff.read_text())"
   ]
  },
  {
   "cell_type": "markdown",
   "metadata": {},
   "source": [
    "## 7. Avoiding Duplicate Versions\n",
    "\n",
    "Use `skip_if_unchanged` to prevent unnecessary versions:"
   ]
  },
  {
   "cell_type": "code",
   "execution_count": null,
   "metadata": {},
   "outputs": [],
   "source": [
    "# Example usage:\n",
    "print(\"Example: Avoiding duplicate versions\")\n",
    "print(\"\\n# Try writing same content\")\n",
    "print(\"s3_file.write_text('config data', skip_if_unchanged=True)\")\n",
    "print(\"# Returns False - no new version created\")\n",
    "\n",
    "print(\"\\n# Write different content\")\n",
    "print(\"s3_file.write_text('new config', skip_if_unchanged=True)\")\n",
    "print(\"# Returns True - new version created\")\n",
    "\n",
    "print(\"\\n✓ Saves storage costs by avoiding duplicate versions!\")"
   ]
  },
  {
   "cell_type": "markdown",
   "metadata": {},
   "source": [
    "## 8. Compacting Versions\n",
    "\n",
    "Remove consecutive duplicate versions:"
   ]
  },
  {
   "cell_type": "code",
   "execution_count": null,
   "metadata": {},
   "outputs": [],
   "source": [
    "# Example compaction:\n",
    "print(\"Example: Version compaction\")\n",
    "print(\"\\nBefore compaction:\")\n",
    "print(\"  v1: content A (etag: xxx)\")\n",
    "print(\"  v2: content A (etag: xxx)  ← duplicate\")\n",
    "print(\"  v3: content B (etag: yyy)\")\n",
    "print(\"  v4: content B (etag: yyy)  ← duplicate\")\n",
    "print(\"  v5: content A (etag: xxx)  ← kept (not consecutive)\")\n",
    "\n",
    "print(\"\\n# Dry run to see what would be removed\")\n",
    "print(\"count = s3_file.compact_versions(dry_run=True)\")\n",
    "print(\"print(f'Would remove {count} versions')\")\n",
    "\n",
    "print(\"\\n# Actually compact\")\n",
    "print(\"removed = s3_file.compact_versions()\")\n",
    "print(\"print(f'Removed {removed} duplicate versions')\")\n",
    "\n",
    "print(\"\\nAfter compaction:\")\n",
    "print(\"  v1: content A (etag: xxx)\")\n",
    "print(\"  v3: content B (etag: yyy)\")\n",
    "print(\"  v5: content A (etag: xxx)\")\n",
    "print(\"\\n✓ Space saved, history preserved!\")"
   ]
  },
  {
   "cell_type": "markdown",
   "metadata": {},
   "source": [
    "## 9. Practical: Config Version Tracking\n",
    "\n",
    "Complete example for tracking config changes:"
   ]
  },
  {
   "cell_type": "code",
   "execution_count": null,
   "metadata": {},
   "outputs": [],
   "source": [
    "class ConfigVersionTracker:\n",
    "    \"\"\"Track configuration changes with versions\"\"\"\n",
    "    \n",
    "    def __init__(self, storage, config_path):\n",
    "        self.storage = storage\n",
    "        self.config_node = storage.node(config_path)\n",
    "    \n",
    "    def update_config(self, new_config, description=\"\"):\n",
    "        \"\"\"Update config only if changed\"\"\"\n",
    "        changed = self.config_node.write_text(\n",
    "            new_config,\n",
    "            skip_if_unchanged=True\n",
    "        )\n",
    "        \n",
    "        if changed:\n",
    "            print(f\"✓ Config updated: {description}\")\n",
    "            return True\n",
    "        else:\n",
    "            print(f\"⊘ Config unchanged, no new version\")\n",
    "            return False\n",
    "    \n",
    "    def get_history(self):\n",
    "        \"\"\"Get version history\"\"\"\n",
    "        if not self.config_node.capabilities.versioning:\n",
    "            return []\n",
    "        \n",
    "        return self.config_node.versions\n",
    "    \n",
    "    def rollback(self, version=-2):\n",
    "        \"\"\"Rollback to previous version\"\"\"\n",
    "        if not self.config_node.capabilities.version_access:\n",
    "            raise ValueError(\"Backend doesn't support version access\")\n",
    "        \n",
    "        # Read old version\n",
    "        with self.config_node.open(version=version) as f:\n",
    "            old_content = f.read()\n",
    "        \n",
    "        # Write as new version\n",
    "        self.config_node.write_text(old_content)\n",
    "        print(f\"✓ Rolled back to version {version}\")\n",
    "\n",
    "# Example usage (would work with S3):\n",
    "# tracker = ConfigVersionTracker(storage, 's3:app/config.json')\n",
    "# tracker.update_config('{\"timeout\": 30}', \"Initial config\")\n",
    "# tracker.update_config('{\"timeout\": 60}', \"Increase timeout\")\n",
    "# tracker.rollback()  # Undo last change\n",
    "\n",
    "print(\"ConfigVersionTracker class defined\")\n",
    "print(\"✓ Ready for S3 version tracking\")"
   ]
  },
  {
   "cell_type": "markdown",
   "metadata": {},
   "source": [
    "## 10. Practical: Automated Backup with Cleanup\n",
    "\n",
    "Backup with automatic old version cleanup:"
   ]
  },
  {
   "cell_type": "code",
   "execution_count": null,
   "metadata": {},
   "outputs": [],
   "source": [
    "def backup_with_cleanup(source_node, backup_node):\n",
    "    \"\"\"\n",
    "    Backup file and clean up duplicate versions.\n",
    "    Only for S3 with versioning enabled.\n",
    "    \"\"\"\n",
    "    # Copy to backup\n",
    "    source_node.copy(backup_node)\n",
    "    print(f\"✓ Backed up: {source_node.basename}\")\n",
    "    \n",
    "    # Check if versioning available\n",
    "    if not backup_node.capabilities.versioning:\n",
    "        print(\"  ⚠ Versioning not available, skipping cleanup\")\n",
    "        return\n",
    "    \n",
    "    # Compact versions\n",
    "    removed = backup_node.compact_versions()\n",
    "    if removed > 0:\n",
    "        print(f\"  ✓ Removed {removed} duplicate versions\")\n",
    "    else:\n",
    "        print(f\"  ✓ No duplicates to remove\")\n",
    "\n",
    "# Example:\n",
    "# important = storage.node('local:important.txt')\n",
    "# backup = storage.node('s3:backups/important.txt')\n",
    "# backup_with_cleanup(important, backup)\n",
    "\n",
    "print(\"backup_with_cleanup function defined\")\n",
    "print(\"✓ Ready for automated backups with cleanup\")"
   ]
  },
  {
   "cell_type": "markdown",
   "metadata": {},
   "source": [
    "## 11. Try It Yourself! 🎯\n",
    "\n",
    "**Exercise 1:** Create a function to compare current with N days ago:"
   ]
  },
  {
   "cell_type": "code",
   "execution_count": null,
   "metadata": {},
   "outputs": [],
   "source": [
    "def compare_with_past(node, days_ago=7):\n",
    "    \"\"\"\n",
    "    Compare current version with version from N days ago.\n",
    "    Return the diff as string.\n",
    "    \"\"\"\n",
    "    # Your code here\n",
    "    pass"
   ]
  },
  {
   "cell_type": "markdown",
   "metadata": {},
   "source": [
    "**Exercise 2:** Implement version statistics:"
   ]
  },
  {
   "cell_type": "code",
   "execution_count": null,
   "metadata": {},
   "outputs": [],
   "source": [
    "def version_statistics(node):\n",
    "    \"\"\"\n",
    "    Return statistics about versions:\n",
    "    - Total versions\n",
    "    - Total size\n",
    "    - Average size\n",
    "    - Oldest/newest timestamps\n",
    "    \"\"\"\n",
    "    # Your code here\n",
    "    pass"
   ]
  },
  {
   "cell_type": "markdown",
   "metadata": {},
   "source": [
    "**Exercise 3:** Auto-cleanup old versions:"
   ]
  },
  {
   "cell_type": "code",
   "execution_count": null,
   "metadata": {},
   "outputs": [],
   "source": [
    "def cleanup_old_versions(node, keep_count=10):\n",
    "    \"\"\"\n",
    "    Keep only the N most recent versions.\n",
    "    Delete older versions.\n",
    "    \"\"\"\n",
    "    # Your code here\n",
    "    pass"
   ]
  },
  {
   "cell_type": "markdown",
   "metadata": {},
   "source": [
    "## Summary\n",
    "\n",
    "You've learned S3 versioning:\n",
    "\n",
    "- ✓ Checking versioning capabilities\n",
    "- ✓ Accessing previous versions (index, ID, date)\n",
    "- ✓ Listing version history\n",
    "- ✓ Comparing versions with diffnode\n",
    "- ✓ Avoiding duplicate versions\n",
    "- ✓ Compacting redundant versions\n",
    "- ✓ Practical version tracking patterns\n",
    "\n",
    "## Key Concepts\n",
    "\n",
    "- **Versioning** must be enabled on S3 bucket\n",
    "- **Every write** creates a new version\n",
    "- **Negative indexing**: -1 (latest), -2 (previous), etc.\n",
    "- **Version IDs** are unique identifiers\n",
    "- **as_of** allows time-based access\n",
    "- **Compaction** removes consecutive duplicates\n",
    "- **skip_if_unchanged** prevents duplicates\n",
    "\n",
    "## Best Practices\n",
    "\n",
    "✅ **Do:**\n",
    "- Use `skip_if_unchanged` for frequent writes\n",
    "- Compact versions periodically\n",
    "- Set lifecycle policies on bucket\n",
    "- Monitor version count and costs\n",
    "\n",
    "❌ **Don't:**\n",
    "- Enable versioning for temporary/cache data\n",
    "- Forget about storage costs\n",
    "- Modify old versions (they're read-only)\n",
    "\n",
    "## What's Next?\n",
    "\n",
    "Continue to:\n",
    "\n",
    "- **[07_advanced_features.ipynb](07_advanced_features.ipynb)** - Advanced integrations\n",
    "- **[08_real_world_examples.ipynb](08_real_world_examples.ipynb)** - Complete use cases\n",
    "\n",
    "Happy versioning! 🕐"
   ]
  }
 ],
 "metadata": {
  "kernelspec": {
   "display_name": "Python 3",
   "language": "python",
   "name": "python3"
  },
  "language_info": {
   "codemirror_mode": {
    "name": "ipython",
    "version": 3
   },
   "file_extension": ".py",
   "mimetype": "text/x-python",
   "name": "python",
   "nbconvert_exporter": "python",
   "pygments_lexer": "ipython3",
   "version": "3.12.0"
  }
 },
 "nbformat": 4,
 "nbformat_minor": 4
}
